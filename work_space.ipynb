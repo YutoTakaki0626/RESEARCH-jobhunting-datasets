{
 "cells": [
  {
   "cell_type": "code",
   "execution_count": 13,
   "id": "6c6424d4-7a36-4324-828d-ae8408ec9fcb",
   "metadata": {},
   "outputs": [
    {
     "name": "stdout",
     "output_type": "stream",
     "text": [
      "The autoreload extension is already loaded. To reload it, use:\n",
      "  %reload_ext autoreload\n"
     ]
    }
   ],
   "source": [
    "%load_ext autoreload\n",
    "%autoreload 2"
   ]
  },
  {
   "cell_type": "code",
   "execution_count": 20,
   "id": "40949adc-03a6-4e5c-9e4b-d4fcdf09cd3c",
   "metadata": {},
   "outputs": [],
   "source": [
    "import os\n",
    "import glob\n",
    "\n",
    "import pandas as pd\n",
    "import joblib\n",
    "\n",
    "def dumpJoblib(fileName, obj):\n",
    "    with open(fileName, mode=\"wb\") as f:\n",
    "        joblib.dump(obj, f, compress=3)\n",
    "        \n",
    "def loadJoblib(fileName):\n",
    "    with open(fileName, mode=\"rb\") as f:\n",
    "        return joblib.load(f)\n",
    "\n",
    "df = loadJoblib('data_label/00500_00999.joblib')\n",
    "texts = df['tweet_full_text'].tolist()\n",
    "df['label'] = 0"
   ]
  },
  {
   "cell_type": "code",
   "execution_count": 23,
   "id": "24884557-352f-4a93-afdd-b1de74519621",
   "metadata": {},
   "outputs": [
    {
     "name": "stdout",
     "output_type": "stream",
     "text": [
      "------------------------------\n",
      "□　□　□ 現在500個目の作業です！！\n",
      "\n",
      "ツイート本文：\n",
      " [定期]このアカウントはポケ専用アカウントです。就活が終わり次第やりこみますすすすすす\n"
     ]
    },
    {
     "name": "stdin",
     "output_type": "stream",
     "text": [
      "\n",
      "どのラベルに分類しますか 1\n"
     ]
    },
    {
     "name": "stdout",
     "output_type": "stream",
     "text": [
      "------------------------------\n",
      "------------------------------\n",
      "□　□　□ 現在501個目の作業です！！\n",
      "\n",
      "ツイート本文：\n",
      " @deeryuri17 さん、はじめまして！！✨\n",
      "\n",
      "コウキと申します！\n",
      "\n",
      "就活を捨てて、ポジティブに生きています！🤤\n",
      "\n",
      "詳しくはプロフィールにかいてます！\n",
      "\n",
      "もし良かったら、この機会に繋がってみませんか？？👀👀\n"
     ]
    },
    {
     "name": "stdin",
     "output_type": "stream",
     "text": [
      "\n",
      "どのラベルに分類しますか 1\n"
     ]
    },
    {
     "name": "stdout",
     "output_type": "stream",
     "text": [
      "------------------------------\n",
      "------------------------------\n",
      "□　□　□ 現在502個目の作業です！！\n",
      "\n",
      "ツイート本文：\n",
      " @tmxMgpuTUTBHm4S @minnanomiku1225 &lt;変異型がこんなにも大流行していても高笑いし\n",
      "\n",
      "そういえば、就活に悩む学生や親を笑った副学長（私の学生時代当時）とカウンセラーがいました。↓\n",
      "https://t.co/GpMRKosF4t\n"
     ]
    },
    {
     "name": "stdin",
     "output_type": "stream",
     "text": [
      "\n",
      "どのラベルに分類しますか 4\n"
     ]
    },
    {
     "name": "stdout",
     "output_type": "stream",
     "text": [
      "------------------------------\n",
      "------------------------------\n",
      "□　□　□ 現在503個目の作業です！！\n",
      "\n",
      "ツイート本文：\n",
      " RT @Motoyama_Rano: 21歳になりました！たくさんのお祝いありがとうございます！\n",
      "今はいよいよ就活、という感じでもう大変ですが…それさえ終わったらめちゃくちゃ精力的に活動してやるんだから…！\n",
      "それまでもう少々わたしのことを忘れないでいてくれると嬉しいです。 ht…\n"
     ]
    },
    {
     "name": "stdin",
     "output_type": "stream",
     "text": [
      "\n",
      "どのラベルに分類しますか 1\n"
     ]
    },
    {
     "name": "stdout",
     "output_type": "stream",
     "text": [
      "------------------------------\n",
      "\n",
      "\n",
      "\n",
      " 保存完了　\n",
      "\n",
      "\n",
      "\n",
      "\n",
      "\n",
      "\n",
      "\n"
     ]
    },
    {
     "data": {
      "text/html": [
       "<div>\n",
       "<style scoped>\n",
       "    .dataframe tbody tr th:only-of-type {\n",
       "        vertical-align: middle;\n",
       "    }\n",
       "\n",
       "    .dataframe tbody tr th {\n",
       "        vertical-align: top;\n",
       "    }\n",
       "\n",
       "    .dataframe thead th {\n",
       "        text-align: right;\n",
       "    }\n",
       "</style>\n",
       "<table border=\"1\" class=\"dataframe\">\n",
       "  <thead>\n",
       "    <tr style=\"text-align: right;\">\n",
       "      <th></th>\n",
       "      <th>ex_index</th>\n",
       "      <th>tweet_id</th>\n",
       "      <th>tweet_full_text</th>\n",
       "      <th>tweet_favorite_count</th>\n",
       "      <th>tweet_created_at</th>\n",
       "      <th>label</th>\n",
       "    </tr>\n",
       "  </thead>\n",
       "  <tbody>\n",
       "    <tr>\n",
       "      <th>500</th>\n",
       "      <td>435</td>\n",
       "      <td>1396604680034086913</td>\n",
       "      <td>[定期]このアカウントはポケ専用アカウントです。就活が終わり次第やりこみますすすすすす</td>\n",
       "      <td>0</td>\n",
       "      <td>2021-05-24 08:11:18</td>\n",
       "      <td>1</td>\n",
       "    </tr>\n",
       "    <tr>\n",
       "      <th>501</th>\n",
       "      <td>14</td>\n",
       "      <td>1396254033862545409</td>\n",
       "      <td>@deeryuri17 さん、はじめまして！！✨\\n\\nコウキと申します！\\n\\n就活を捨て...</td>\n",
       "      <td>0</td>\n",
       "      <td>2021-05-23 08:57:57</td>\n",
       "      <td>1</td>\n",
       "    </tr>\n",
       "    <tr>\n",
       "      <th>502</th>\n",
       "      <td>243</td>\n",
       "      <td>1390088238572834817</td>\n",
       "      <td>@tmxMgpuTUTBHm4S @minnanomiku1225 &amp;lt;変異型がこんなに...</td>\n",
       "      <td>0</td>\n",
       "      <td>2021-05-06 08:37:17</td>\n",
       "      <td>4</td>\n",
       "    </tr>\n",
       "    <tr>\n",
       "      <th>503</th>\n",
       "      <td>370</td>\n",
       "      <td>1352033277184405508</td>\n",
       "      <td>RT @Motoyama_Rano: 21歳になりました！たくさんのお祝いありがとうございま...</td>\n",
       "      <td>0</td>\n",
       "      <td>2021-01-21 08:20:27</td>\n",
       "      <td>1</td>\n",
       "    </tr>\n",
       "    <tr>\n",
       "      <th>504</th>\n",
       "      <td>76</td>\n",
       "      <td>1406398605418647552</td>\n",
       "      <td>就活のやつの列もはやアニサマの物販やん</td>\n",
       "      <td>0</td>\n",
       "      <td>2021-06-20 08:48:51</td>\n",
       "      <td>0</td>\n",
       "    </tr>\n",
       "  </tbody>\n",
       "</table>\n",
       "</div>"
      ],
      "text/plain": [
       "     ex_index             tweet_id  \\\n",
       "500       435  1396604680034086913   \n",
       "501        14  1396254033862545409   \n",
       "502       243  1390088238572834817   \n",
       "503       370  1352033277184405508   \n",
       "504        76  1406398605418647552   \n",
       "\n",
       "                                       tweet_full_text  tweet_favorite_count  \\\n",
       "500        [定期]このアカウントはポケ専用アカウントです。就活が終わり次第やりこみますすすすすす                     0   \n",
       "501  @deeryuri17 さん、はじめまして！！✨\\n\\nコウキと申します！\\n\\n就活を捨て...                     0   \n",
       "502  @tmxMgpuTUTBHm4S @minnanomiku1225 &lt;変異型がこんなに...                     0   \n",
       "503  RT @Motoyama_Rano: 21歳になりました！たくさんのお祝いありがとうございま...                     0   \n",
       "504                                就活のやつの列もはやアニサマの物販やん                     0   \n",
       "\n",
       "        tweet_created_at  label  \n",
       "500  2021-05-24 08:11:18      1  \n",
       "501  2021-05-23 08:57:57      1  \n",
       "502  2021-05-06 08:37:17      4  \n",
       "503  2021-01-21 08:20:27      1  \n",
       "504  2021-06-20 08:48:51      0  "
      ]
     },
     "execution_count": 23,
     "metadata": {},
     "output_type": "execute_result"
    }
   ],
   "source": [
    "start = 500\n",
    "end = 999\n",
    "\n",
    "for i in range(start, end+1, 1):\n",
    "    print('-' * 30)\n",
    "    print(f'□　□　□ 現在{i}個目の作業です！！\\n')\n",
    "    print(f'ツイート本文：\\n {texts[i - 500]}')\n",
    "    lbl = int(input('\\nどのラベルに分類しますか'))\n",
    "    df.loc[i, 'label'] = lbl\n",
    "    print('-' * 30)\n",
    "    \n",
    "dumpJoblib('data_label_fin/00000_00499.joblib', df)\n",
    "\n",
    "print('\\n\\n\\n 保存完了　\\n\\n\\n\\n\\n\\n\\n')"
   ]
  },
  {
   "cell_type": "code",
   "execution_count": 18,
   "id": "b37f01aa-f77b-41de-9579-63ecc90fd22d",
   "metadata": {},
   "outputs": [
    {
     "data": {
      "text/plain": [
       "500    0.0\n",
       "501    0.0\n",
       "502    0.0\n",
       "503    0.0\n",
       "504    0.0\n",
       "      ... \n",
       "98     5.0\n",
       "99     4.0\n",
       "100    1.0\n",
       "101    3.0\n",
       "102    3.0\n",
       "Name: label, Length: 603, dtype: float64"
      ]
     },
     "execution_count": 18,
     "metadata": {},
     "output_type": "execute_result"
    }
   ],
   "source": [
    "df['label']"
   ]
  },
  {
   "cell_type": "code",
   "execution_count": null,
   "id": "15f083fa-cd23-4efb-b992-05274fc20fc7",
   "metadata": {},
   "outputs": [],
   "source": []
  }
 ],
 "metadata": {
  "kernelspec": {
   "display_name": "Python 3",
   "language": "python",
   "name": "python3"
  },
  "language_info": {
   "codemirror_mode": {
    "name": "ipython",
    "version": 3
   },
   "file_extension": ".py",
   "mimetype": "text/x-python",
   "name": "python",
   "nbconvert_exporter": "python",
   "pygments_lexer": "ipython3",
   "version": "3.8.2"
  }
 },
 "nbformat": 4,
 "nbformat_minor": 5
}
