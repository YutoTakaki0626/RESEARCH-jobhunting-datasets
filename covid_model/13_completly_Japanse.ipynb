{
 "cells": [
  {
   "cell_type": "code",
   "execution_count": 46,
   "id": "87a7b36c-66de-4098-9cf3-fd3535e68ad6",
   "metadata": {},
   "outputs": [
    {
     "name": "stdout",
     "output_type": "stream",
     "text": [
      "The autoreload extension is already loaded. To reload it, use:\n",
      "  %reload_ext autoreload\n"
     ]
    }
   ],
   "source": [
    "%load_ext autoreload\n",
    "%autoreload 2\n"
   ]
  },
  {
   "cell_type": "code",
   "execution_count": 47,
   "id": "bdc8e853-09b2-4cbf-b10d-7a8daff3f60c",
   "metadata": {},
   "outputs": [],
   "source": [
    "import sys\n",
    "sys.path.append('..')"
   ]
  },
  {
   "cell_type": "code",
   "execution_count": 50,
   "id": "29e98a9a-975a-42b0-bcbf-e0f49fd78790",
   "metadata": {},
   "outputs": [
    {
     "data": {
      "text/plain": [
       "['更新：WHOは新型コロナウイルスの正式名称を「COVID-19」とすると発表しました\\nhttps://t.co/zFQKGGXpse',\n",
       " 'これって英語圏の人は見間違えないのかな？\\n\\n#GODIVA #COVID19\\n\\n新型コロナウイルスの名称「COVID-19」をゴディバと見間違えるが続出 https://t.co/z5CxZFpQmQ',\n",
       " '#新型コロナ ウイルス感染症の拡大防止に係る #災害派遣  \\n要員として航空機動衛生隊の隊員１名がクルーズ船「ダイヤモンドプリンセス号」医療支援のため小牧基地を出発しました。\\n#COVID19 https://t.co/X4tEvmR1im',\n",
       " '未曾有の事態の中、中国政府は言論の自由を奪っています\\n\\n記事では、中国国内の実態の取材に尽力していた記者が拘束されたことを報道しています\\n\\n中国国民も、政府に対して不信感を募らせています🇨🇳\\n\\n政府による人災とならないことを祈りま… https://t.co/56QJemwK7h',\n",
       " '新しいコロナウィルスの名称\\nCOVID-19とWHO命名。クールで恐ろしい名前やな\\n#COVID19 #新型コロナウィルス #やばい病気',\n",
       " '☆新型コロナウィルス相談窓口（各都道府県）\\n一応窓口は、ありますが、まず、風邪でしょうといわれます。⇒理由：国内で一人でも感染者が出たらパニックになるから?（封じ込められてないことがばれるから？）#nCoV #COVID_19\\u3000https://t.co/PMB6Jb5wip',\n",
       " '新型コロナウイルスCOVID-19に罹患した妊婦は，妊娠していない成人と臨床的特徴は同様であり，出産および新生児に特に問題なし．羊水，臍帯血からもウイルスは検出されなかった．9症例報告．（Lancet 2020, Feb 12）\\nhttps://t.co/y2b67xsOzH',\n",
       " 'いっふー☀\\nさくらいふちゃんだよ🌸\\n＼#手洗い で手首も洗ってる❓／\\n\\n手首にも意外とウイルスやばい菌がついているよΣ（・□・；）\\n洗い残しのないように、ちゃんと洗おうね！\\n\\n#新型コロナウイルス  #COVID19… https://t.co/oFnSmC28yN',\n",
       " '湖北省\\n\\n感染爆発か\\n\\n１日で\\n感染者１万４千人増加\\n\\n死者も２００人超増える\\n\\n#covid19\\n新型コロナの流行の終息時期\\u3000WHO「見通せない」 https://t.co/zyXXQfofcz',\n",
       " '【中央日報】韓国人は新型肺炎の潜在保菌者? オランダ航空の「人種差別」が俎上に\\n\\nオランダ航空会社であるKLM航空が人種差別の論議に巻き込まれた。「COVID-19(新型コロナウイルス)」に関連して韓国人に差別的な措置を取ったとい… https://t.co/DtMl9eIslb',\n",
       " '新型コロナウイルス(2019-nCoV, COVID-19)の重症管理に役立つコクランエビデンスを集めた特集号の日本語訳が完了しました。\\nそれぞれのコクランレビューのリンクは訳のあるものについては日本語表記されるリンクにしています… https://t.co/SDPE1z7vbk',\n",
       " '検疫官も感染してしまうとなると、やはり乗客と接する乗員は全数検査するべきだと思う。\\n\\n #新型肺炎 #新型コロナウィルス #COVID19 #クルーズ船 #ひるおび',\n",
       " '新型コロナウイルス（COVID－19）治療の最前線に立つ、大曲貴夫先生にお話を伺いました。「国内では一人も死なせない」と連日奮闘なさって、体重が2キロ落ちたとのこと。院内感染管理の重要性や最新治療、一般の人ができることも話して頂き… https://t.co/phM8oe5m0l',\n",
       " 'クルーズ船「ダイヤモンドプリンス号」の乗客輸送支援として #小牧基地 #第１輸送航空隊 管理隊員４名と大型バス２台が出発しました。\\n#新型コロナウイルス \\n#災害派遣 \\n#covid19 https://t.co/J2Nc6M33wq',\n",
       " '急に新型コロナウイルスCOVID-19患者数が1日で14840例（うち12000例近くは武漢）急増しましたが、これはこれまでCTやPCRで陽性とでなかったけど疑わしい症例を臨床診断として患者数に含めたからのようです。PCRの検査感… https://t.co/Ni07cUXX8G',\n",
       " '都内のタクシー運転手が感染。遅かれ早かれ来ると判っていた事だが…。情報の確実さの責任に束縛された専門家の発信が後手に回った結果、世の中全体の、そして業界の動きが遅きに失した感がある。\\n#NHK #首都圏ネットワーク #新型コロナウイルス #COVID19 #感染症',\n",
       " '【速報】東京都内のタクシー運転手の男性、新型コロナウイルスに感染確認\\n#COVID19 #新型肺炎 #新型コロナウイルス',\n",
       " '中国では看護師はウィルスが髪につかないようにマルコメちゃんに。\\n髪の長い女性は切ったりまとめた方が良いかもしれない。\\n\\n#coronavirus\\n#コロナウィルス\\n#新型コロナウィルス\\n#COVID2019 https://t.co/VcP0WxqVdi',\n",
       " '#新型コロナウイルス\\u3000COVID-19\\n\\n和歌山県の感染者は\\u3000医師とのことです。\\n\\n医師も命懸けです！\\n\\n正しい #感染対策 をお願いします。\\n\\nhttps://t.co/GCAGSobbsj',\n",
       " '日本政府､緊急ウイルス対策に総額153億円\\u3000ワクチン開発やマスク増産､簡易検査キット準備へ https://t.co/HvLjoIhP19 #COVID19 #新型コロナウイルス #新型肺炎 #コロナウイルス #感染者 #WHO #ワクチン #簡易検査キット #マスク #予備費']"
      ]
     },
     "execution_count": 50,
     "metadata": {},
     "output_type": "execute_result"
    }
   ],
   "source": [
    "from PY_tweet.lists_file import dumpJoblib, loadJoblib\n",
    "\n",
    "data = loadJoblib('../DATA_all_texts/only_4labels_textdata.joblib')\n",
    "label = loadJoblib('../DATA_all_texts/only_4labels_label.joblib')\n",
    "data[:20]"
   ]
  },
  {
   "cell_type": "code",
   "execution_count": 51,
   "id": "d5ca5c8d-a57c-4df6-82d4-0651e07d7fc7",
   "metadata": {},
   "outputs": [
    {
     "data": {
      "text/plain": [
       "['更新：は新型コロナウイルスの正式名称を「-19」とすると発表しました\\n',\n",
       " 'これって英語圏の人は見間違えないのかな？\\n\\n# #19\\n\\n新型コロナウイルスの名称「-19」をゴディバと見間違えるが続出 ',\n",
       " '#新型コロナ ウイルス感染症の拡大防止に係る #災害派遣  \\n要員として航空機動衛生隊の隊員１名がクルーズ船「ダイヤモンドプリンセス号」医療支援のため小牧基地を出発しました。\\n#19 ',\n",
       " '未曾有の事態の中、中国政府は言論の自由を奪っています\\n\\n記事では、中国国内の実態の取材に尽力していた記者が拘束されたことを報道しています\\n\\n中国国民も、政府に対して不信感を募らせています🇨🇳\\n\\n政府による人災とならないことを祈りま… ',\n",
       " '新しいコロナウィルスの名称\\n-19と命名。クールで恐ろしい名前やな\\n#19 #新型コロナウィルス #やばい病気',\n",
       " '☆新型コロナウィルス相談窓口（各都道府県）\\n一応窓口は、ありますが、まず、風邪でしょうといわれます。⇒理由：国内で一人でも感染者が出たらパニックになるから?（封じ込められてないことがばれるから？）# #_19\\u3000',\n",
       " '新型コロナウイルス-19に罹患した妊婦は，妊娠していない成人と臨床的特徴は同様であり，出産および新生児に特に問題なし．羊水，臍帯血からもウイルスは検出されなかった．9症例報告．（ 2020,  12）\\n',\n",
       " 'いっふー☀\\nさくらいふちゃんだよ🌸\\n＼#手洗い で手首も洗ってる❓／\\n\\n手首にも意外とウイルスやばい菌がついているよΣ（・□・；）\\n洗い残しのないように、ちゃんと洗おうね！\\n\\n#新型コロナウイルス  #19… ',\n",
       " '湖北省\\n\\n感染爆発か\\n\\n１日で\\n感染者１万４千人増加\\n\\n死者も２００人超増える\\n\\n#19\\n新型コロナの流行の終息時期\\u3000「見通せない」 ',\n",
       " '【中央日報】韓国人は新型肺炎の潜在保菌者? オランダ航空の「人種差別」が俎上に\\n\\nオランダ航空会社である航空が人種差別の論議に巻き込まれた。「-19(新型コロナウイルス)」に関連して韓国人に差別的な措置を取ったとい… ',\n",
       " '新型コロナウイルス(2019-, -19)の重症管理に役立つコクランエビデンスを集めた特集号の日本語訳が完了しました。\\nそれぞれのコクランレビューのリンクは訳のあるものについては日本語表記されるリンクにしています… ',\n",
       " '検疫官も感染してしまうとなると、やはり乗客と接する乗員は全数検査するべきだと思う。\\n\\n #新型肺炎 #新型コロナウィルス #19 #クルーズ船 #ひるおび',\n",
       " '新型コロナウイルス（－19）治療の最前線に立つ、大曲貴夫先生にお話を伺いました。「国内では一人も死なせない」と連日奮闘なさって、体重が2キロ落ちたとのこと。院内感染管理の重要性や最新治療、一般の人ができることも話して頂き… ',\n",
       " 'クルーズ船「ダイヤモンドプリンス号」の乗客輸送支援として #小牧基地 #第１輸送航空隊 管理隊員４名と大型バス２台が出発しました。\\n#新型コロナウイルス \\n#災害派遣 \\n#19 ',\n",
       " '急に新型コロナウイルス-19患者数が1日で14840例（うち12000例近くは武漢）急増しましたが、これはこれまでやで陽性とでなかったけど疑わしい症例を臨床診断として患者数に含めたからのようです。の検査感… ',\n",
       " '都内のタクシー運転手が感染。遅かれ早かれ来ると判っていた事だが…。情報の確実さの責任に束縛された専門家の発信が後手に回った結果、世の中全体の、そして業界の動きが遅きに失した感がある。\\n# #首都圏ネットワーク #新型コロナウイルス #19 #感染症',\n",
       " '【速報】東京都内のタクシー運転手の男性、新型コロナウイルスに感染確認\\n#19 #新型肺炎 #新型コロナウイルス',\n",
       " '中国では看護師はウィルスが髪につかないようにマルコメちゃんに。\\n髪の長い女性は切ったりまとめた方が良いかもしれない。\\n\\n#\\n#コロナウィルス\\n#新型コロナウィルス\\n#2019 ',\n",
       " '#新型コロナウイルス\\u3000-19\\n\\n和歌山県の感染者は\\u3000医師とのことです。\\n\\n医師も命懸けです！\\n\\n正しい #感染対策 をお願いします。\\n\\n',\n",
       " '日本政府､緊急ウイルス対策に総額153億円\\u3000ワクチン開発やマスク増産､簡易検査キット準備へ  #19 #新型コロナウイルス #新型肺炎 #コロナウイルス #感染者 # #ワクチン #簡易検査キット #マスク #予備費']"
      ]
     },
     "execution_count": 51,
     "metadata": {},
     "output_type": "execute_result"
    }
   ],
   "source": [
    "from PY_preprocessing import remove\n",
    "\n",
    "rm = remove.Remove()\n",
    "data = rm.japanese(data)\n",
    "data[:20]"
   ]
  },
  {
   "cell_type": "code",
   "execution_count": 29,
   "id": "79843d31-655e-4510-8e93-eb927c3e57a6",
   "metadata": {},
   "outputs": [
    {
     "data": {
      "text/plain": [
       "['更新：は新型コロナウイルスの正式名称を「19」とすると発表しました\\n']"
      ]
     },
     "execution_count": 29,
     "metadata": {},
     "output_type": "execute_result"
    }
   ],
   "source": [
    "data[:10]"
   ]
  },
  {
   "cell_type": "code",
   "execution_count": null,
   "id": "65364007-01f2-41d1-9150-a55729cf22ff",
   "metadata": {},
   "outputs": [],
   "source": []
  },
  {
   "cell_type": "code",
   "execution_count": 11,
   "id": "1d113b57-7515-4e68-8c81-88d2ac58565e",
   "metadata": {},
   "outputs": [
    {
     "name": "stdout",
     "output_type": "stream",
     "text": [
      "Requirement already satisfied: transformers==4.5.0 in /home/takakiyuto/anaconda3/lib/python3.8/site-packages (4.5.0)\n",
      "Requirement already satisfied: fugashi==1.1.0 in /home/takakiyuto/anaconda3/lib/python3.8/site-packages (1.1.0)\n",
      "Requirement already satisfied: ipadic==1.0.0 in /home/takakiyuto/anaconda3/lib/python3.8/site-packages (1.0.0)\n",
      "Requirement already satisfied: pytorch-lightning==1.2.7 in /home/takakiyuto/anaconda3/lib/python3.8/site-packages (1.2.7)\n",
      "Requirement already satisfied: numpy>=1.16.6 in /home/takakiyuto/anaconda3/lib/python3.8/site-packages (from pytorch-lightning==1.2.7) (1.20.1)\n",
      "Requirement already satisfied: tensorboard>=2.2.0 in /home/takakiyuto/anaconda3/lib/python3.8/site-packages (from pytorch-lightning==1.2.7) (2.6.0)\n",
      "Requirement already satisfied: PyYAML!=5.4.*,>=5.1 in /home/takakiyuto/anaconda3/lib/python3.8/site-packages (from pytorch-lightning==1.2.7) (5.3.1)\n",
      "Requirement already satisfied: tqdm>=4.41.0 in /home/takakiyuto/anaconda3/lib/python3.8/site-packages (from pytorch-lightning==1.2.7) (4.59.0)\n",
      "Requirement already satisfied: fsspec[http]>=0.8.1 in /home/takakiyuto/anaconda3/lib/python3.8/site-packages (from pytorch-lightning==1.2.7) (0.9.0)\n",
      "Requirement already satisfied: torchmetrics>=0.2.0 in /home/takakiyuto/anaconda3/lib/python3.8/site-packages (from pytorch-lightning==1.2.7) (0.2.0)\n",
      "Requirement already satisfied: torch>=1.4 in /home/takakiyuto/anaconda3/lib/python3.8/site-packages (from pytorch-lightning==1.2.7) (1.9.0)\n",
      "Requirement already satisfied: future>=0.17.1 in /home/takakiyuto/anaconda3/lib/python3.8/site-packages (from pytorch-lightning==1.2.7) (0.18.2)\n",
      "Requirement already satisfied: packaging in /home/takakiyuto/anaconda3/lib/python3.8/site-packages (from transformers==4.5.0) (20.9)\n",
      "Requirement already satisfied: requests in /home/takakiyuto/anaconda3/lib/python3.8/site-packages (from transformers==4.5.0) (2.25.1)\n",
      "Requirement already satisfied: tokenizers<0.11,>=0.10.1 in /home/takakiyuto/anaconda3/lib/python3.8/site-packages (from transformers==4.5.0) (0.10.3)\n",
      "Requirement already satisfied: filelock in /home/takakiyuto/anaconda3/lib/python3.8/site-packages (from transformers==4.5.0) (3.0.12)\n",
      "Requirement already satisfied: regex!=2019.12.17 in /home/takakiyuto/anaconda3/lib/python3.8/site-packages (from transformers==4.5.0) (2021.4.4)\n",
      "Requirement already satisfied: sacremoses in /home/takakiyuto/anaconda3/lib/python3.8/site-packages (from transformers==4.5.0) (0.0.45)\n",
      "Requirement already satisfied: aiohttp in /home/takakiyuto/anaconda3/lib/python3.8/site-packages (from fsspec[http]>=0.8.1->pytorch-lightning==1.2.7) (3.7.4.post0)\n",
      "Requirement already satisfied: markdown>=2.6.8 in /home/takakiyuto/anaconda3/lib/python3.8/site-packages (from tensorboard>=2.2.0->pytorch-lightning==1.2.7) (3.3.4)\n",
      "Requirement already satisfied: tensorboard-data-server<0.7.0,>=0.6.0 in /home/takakiyuto/anaconda3/lib/python3.8/site-packages (from tensorboard>=2.2.0->pytorch-lightning==1.2.7) (0.6.1)\n",
      "Requirement already satisfied: absl-py>=0.4 in /home/takakiyuto/anaconda3/lib/python3.8/site-packages (from tensorboard>=2.2.0->pytorch-lightning==1.2.7) (0.13.0)\n",
      "Requirement already satisfied: werkzeug>=0.11.15 in /home/takakiyuto/anaconda3/lib/python3.8/site-packages (from tensorboard>=2.2.0->pytorch-lightning==1.2.7) (1.0.1)\n",
      "Requirement already satisfied: wheel>=0.26 in /home/takakiyuto/anaconda3/lib/python3.8/site-packages (from tensorboard>=2.2.0->pytorch-lightning==1.2.7) (0.36.2)\n",
      "Requirement already satisfied: setuptools>=41.0.0 in /home/takakiyuto/anaconda3/lib/python3.8/site-packages (from tensorboard>=2.2.0->pytorch-lightning==1.2.7) (52.0.0.post20210125)\n",
      "Requirement already satisfied: grpcio>=1.24.3 in /home/takakiyuto/anaconda3/lib/python3.8/site-packages (from tensorboard>=2.2.0->pytorch-lightning==1.2.7) (1.40.0)\n",
      "Requirement already satisfied: protobuf>=3.6.0 in /home/takakiyuto/anaconda3/lib/python3.8/site-packages (from tensorboard>=2.2.0->pytorch-lightning==1.2.7) (3.18.0)\n",
      "Requirement already satisfied: google-auth<2,>=1.6.3 in /home/takakiyuto/anaconda3/lib/python3.8/site-packages (from tensorboard>=2.2.0->pytorch-lightning==1.2.7) (1.35.0)\n",
      "Requirement already satisfied: tensorboard-plugin-wit>=1.6.0 in /home/takakiyuto/anaconda3/lib/python3.8/site-packages (from tensorboard>=2.2.0->pytorch-lightning==1.2.7) (1.8.0)\n",
      "Requirement already satisfied: google-auth-oauthlib<0.5,>=0.4.1 in /home/takakiyuto/anaconda3/lib/python3.8/site-packages (from tensorboard>=2.2.0->pytorch-lightning==1.2.7) (0.4.6)\n",
      "Requirement already satisfied: six in /home/takakiyuto/anaconda3/lib/python3.8/site-packages (from absl-py>=0.4->tensorboard>=2.2.0->pytorch-lightning==1.2.7) (1.15.0)\n",
      "Requirement already satisfied: pyasn1-modules>=0.2.1 in /home/takakiyuto/anaconda3/lib/python3.8/site-packages (from google-auth<2,>=1.6.3->tensorboard>=2.2.0->pytorch-lightning==1.2.7) (0.2.8)\n",
      "Requirement already satisfied: rsa<5,>=3.1.4 in /home/takakiyuto/anaconda3/lib/python3.8/site-packages (from google-auth<2,>=1.6.3->tensorboard>=2.2.0->pytorch-lightning==1.2.7) (4.7.2)\n",
      "Requirement already satisfied: cachetools<5.0,>=2.0.0 in /home/takakiyuto/anaconda3/lib/python3.8/site-packages (from google-auth<2,>=1.6.3->tensorboard>=2.2.0->pytorch-lightning==1.2.7) (4.2.2)\n",
      "Requirement already satisfied: requests-oauthlib>=0.7.0 in /home/takakiyuto/anaconda3/lib/python3.8/site-packages (from google-auth-oauthlib<0.5,>=0.4.1->tensorboard>=2.2.0->pytorch-lightning==1.2.7) (1.3.0)\n",
      "Requirement already satisfied: pyasn1<0.5.0,>=0.4.6 in /home/takakiyuto/anaconda3/lib/python3.8/site-packages (from pyasn1-modules>=0.2.1->google-auth<2,>=1.6.3->tensorboard>=2.2.0->pytorch-lightning==1.2.7) (0.4.8)\n",
      "Requirement already satisfied: urllib3<1.27,>=1.21.1 in /home/takakiyuto/anaconda3/lib/python3.8/site-packages (from requests->transformers==4.5.0) (1.26.4)\n",
      "Requirement already satisfied: idna<3,>=2.5 in /home/takakiyuto/anaconda3/lib/python3.8/site-packages (from requests->transformers==4.5.0) (2.10)\n",
      "Requirement already satisfied: chardet<5,>=3.0.2 in /home/takakiyuto/anaconda3/lib/python3.8/site-packages (from requests->transformers==4.5.0) (4.0.0)\n",
      "Requirement already satisfied: certifi>=2017.4.17 in /home/takakiyuto/anaconda3/lib/python3.8/site-packages (from requests->transformers==4.5.0) (2020.12.5)\n",
      "Requirement already satisfied: oauthlib>=3.0.0 in /home/takakiyuto/anaconda3/lib/python3.8/site-packages (from requests-oauthlib>=0.7.0->google-auth-oauthlib<0.5,>=0.4.1->tensorboard>=2.2.0->pytorch-lightning==1.2.7) (3.1.1)\n",
      "Requirement already satisfied: typing_extensions in /home/takakiyuto/anaconda3/lib/python3.8/site-packages (from torch>=1.4->pytorch-lightning==1.2.7) (3.7.4.3)\n",
      "Requirement already satisfied: multidict<7.0,>=4.5 in /home/takakiyuto/anaconda3/lib/python3.8/site-packages (from aiohttp->fsspec[http]>=0.8.1->pytorch-lightning==1.2.7) (5.1.0)\n",
      "Requirement already satisfied: attrs>=17.3.0 in /home/takakiyuto/anaconda3/lib/python3.8/site-packages (from aiohttp->fsspec[http]>=0.8.1->pytorch-lightning==1.2.7) (20.3.0)\n",
      "Requirement already satisfied: async-timeout<4.0,>=3.0 in /home/takakiyuto/anaconda3/lib/python3.8/site-packages (from aiohttp->fsspec[http]>=0.8.1->pytorch-lightning==1.2.7) (3.0.1)\n",
      "Requirement already satisfied: yarl<2.0,>=1.0 in /home/takakiyuto/anaconda3/lib/python3.8/site-packages (from aiohttp->fsspec[http]>=0.8.1->pytorch-lightning==1.2.7) (1.6.3)\n",
      "Requirement already satisfied: pyparsing>=2.0.2 in /home/takakiyuto/anaconda3/lib/python3.8/site-packages (from packaging->transformers==4.5.0) (2.4.7)\n",
      "Requirement already satisfied: joblib in /home/takakiyuto/anaconda3/lib/python3.8/site-packages (from sacremoses->transformers==4.5.0) (1.0.1)\n",
      "Requirement already satisfied: click in /home/takakiyuto/anaconda3/lib/python3.8/site-packages (from sacremoses->transformers==4.5.0) (7.1.2)\n"
     ]
    }
   ],
   "source": [
    "!pip install transformers==4.5.0 fugashi==1.1.0 ipadic==1.0.0 pytorch-lightning==1.2.7"
   ]
  },
  {
   "cell_type": "code",
   "execution_count": 6,
   "id": "306a3749-8ac6-4df6-bfdc-2821f5a0ab02",
   "metadata": {},
   "outputs": [],
   "source": [
    "import random \n",
    "import glob\n",
    "import json\n",
    "from tqdm import tqdm\n",
    "import unicodedata\n",
    "\n",
    "import numpy as np\n",
    "import pandas as pd\n",
    "import torch\n",
    "from torch.utils.data import DataLoader\n",
    "import pytorch_lightning as pl\n",
    "from transformers import BertTokenizer, BertModel\n",
    "\n",
    "from PY_classification.multi_classification import BertForSequenceClassificationMultiLabel\n",
    "\n",
    "MODEL_NAME = 'cl-tohoku/bert-base-japanese-whole-word-masking'"
   ]
  },
  {
   "cell_type": "code",
   "execution_count": 7,
   "id": "142b0d7e-9c44-4221-967e-0bac37636ecc",
   "metadata": {},
   "outputs": [
    {
     "data": {
      "text/plain": [
       "device(type='cuda')"
      ]
     },
     "execution_count": 7,
     "metadata": {},
     "output_type": "execute_result"
    }
   ],
   "source": [
    "device = torch.device('cuda') if torch.cuda.is_available() else torch.device('cpu')\n",
    "device"
   ]
  },
  {
   "cell_type": "code",
   "execution_count": 8,
   "id": "9793a166-6bea-4f27-b368-431998c6759f",
   "metadata": {},
   "outputs": [],
   "source": [
    "tokenizer = BertTokenizer.from_pretrained(MODEL_NAME)\n",
    "bert_scml = BertForSequenceClassificationMultiLabel(\n",
    "    MODEL_NAME, num_labels=4\n",
    ") \n",
    "bert_scml = bert_scml.to(device=device)"
   ]
  },
  {
   "cell_type": "code",
   "execution_count": 9,
   "id": "946d2e87-32c2-4bcd-bdda-10bafd5e5d50",
   "metadata": {},
   "outputs": [],
   "source": [
    "\n",
    "labels = []\n",
    "for emotion in label:\n",
    "    if emotion == 63:\n",
    "        labels.append([1, 0, 0, 0])\n",
    "    elif emotion == 64:\n",
    "        labels.append([0, 1, 0, 0])\n",
    "    elif emotion == 65:\n",
    "        labels.append([0, 0, 1, 0])\n",
    "    else:\n",
    "        labels.append([0, 0, 0, 1])"
   ]
  },
  {
   "cell_type": "code",
   "execution_count": 10,
   "id": "841c68fc-83cf-4ee2-858e-c2ffddf7680a",
   "metadata": {},
   "outputs": [],
   "source": [
    "max_length = 152\n",
    "dataset_for_loader = []\n",
    "\n",
    "for text, label in zip(data, labels):\n",
    "    encoding = tokenizer(\n",
    "      text, \n",
    "      max_length=max_length,\n",
    "      padding='max_length',\n",
    "      truncation=True\n",
    "    )\n",
    "    encoding['labels'] = label\n",
    "    encoding = {k: torch.tensor(v).to(device=device) for k, v in encoding.items() }\n",
    "    dataset_for_loader.append(encoding)\n",
    "    \n",
    "\n",
    "random.shuffle(dataset_for_loader)\n",
    "n = len(dataset_for_loader)\n",
    "n_train = int(0.6*n)\n",
    "n_val = int(0.2*n)\n",
    "dataset_train = dataset_for_loader[:n_train]\n",
    "dataset_val = dataset_for_loader[n_train:n_train+n_val]\n",
    "dataset_test = dataset_for_loader[n_train+n_val:]"
   ]
  },
  {
   "cell_type": "code",
   "execution_count": 11,
   "id": "63d86ef5-967b-43e2-998e-ca3d9d6936f6",
   "metadata": {},
   "outputs": [
    {
     "data": {
      "text/plain": [
       "<torch.utils.data.dataloader.DataLoader at 0x7fd9382911f0>"
      ]
     },
     "execution_count": 11,
     "metadata": {},
     "output_type": "execute_result"
    }
   ],
   "source": [
    "dataloader_train = DataLoader(\n",
    "    dataset_train, batch_size=16, shuffle=True\n",
    ")\n",
    "dataloader_val = DataLoader(\n",
    "    dataset_val, batch_size=16\n",
    ")\n",
    "dataloader_test = DataLoader(\n",
    "    dataset_test, batch_size=16\n",
    ")\n",
    "\n",
    "dataloader_val"
   ]
  },
  {
   "cell_type": "code",
   "execution_count": 12,
   "id": "90996330-c503-4488-be72-76bab42b5d13",
   "metadata": {},
   "outputs": [
    {
     "name": "stderr",
     "output_type": "stream",
     "text": [
      "/home/takakiyuto/anaconda3/lib/python3.8/site-packages/pytorch_lightning/utilities/distributed.py:52: UserWarning: Checkpoint directory part/model/ exists and is not empty.\n",
      "  warnings.warn(*args, **kwargs)\n",
      "GPU available: True, used: True\n",
      "TPU available: False, using: 0 TPU cores\n",
      "LOCAL_RANK: 0 - CUDA_VISIBLE_DEVICES: [0]\n",
      "\n",
      "  | Name      | Type                                    | Params\n",
      "----------------------------------------------------------------------\n",
      "0 | bert_scml | BertForSequenceClassificationMultiLabel | 110 M \n",
      "----------------------------------------------------------------------\n",
      "110 M     Trainable params\n",
      "0         Non-trainable params\n",
      "110 M     Total params\n",
      "442.482   Total estimated model params size (MB)\n",
      "/home/takakiyuto/anaconda3/lib/python3.8/site-packages/pytorch_lightning/utilities/distributed.py:52: UserWarning: The dataloader, val dataloader 0, does not have many workers which may be a bottleneck. Consider increasing the value of the `num_workers` argument` (try 16 which is the number of cpus on this machine) in the `DataLoader` init to improve performance.\n",
      "  warnings.warn(*args, **kwargs)\n"
     ]
    },
    {
     "data": {
      "application/vnd.jupyter.widget-view+json": {
       "model_id": "",
       "version_major": 2,
       "version_minor": 0
      },
      "text/plain": [
       "Validation sanity check: 0it [00:00, ?it/s]"
      ]
     },
     "metadata": {},
     "output_type": "display_data"
    },
    {
     "name": "stderr",
     "output_type": "stream",
     "text": [
      "/home/takakiyuto/anaconda3/lib/python3.8/site-packages/pytorch_lightning/utilities/distributed.py:52: UserWarning: The dataloader, train dataloader, does not have many workers which may be a bottleneck. Consider increasing the value of the `num_workers` argument` (try 16 which is the number of cpus on this machine) in the `DataLoader` init to improve performance.\n",
      "  warnings.warn(*args, **kwargs)\n"
     ]
    },
    {
     "data": {
      "application/vnd.jupyter.widget-view+json": {
       "model_id": "e22a794b87f243d69cce4d0cda4cca56",
       "version_major": 2,
       "version_minor": 0
      },
      "text/plain": [
       "Training: 0it [00:00, ?it/s]"
      ]
     },
     "metadata": {},
     "output_type": "display_data"
    },
    {
     "data": {
      "application/vnd.jupyter.widget-view+json": {
       "model_id": "",
       "version_major": 2,
       "version_minor": 0
      },
      "text/plain": [
       "Validating: 0it [00:00, ?it/s]"
      ]
     },
     "metadata": {},
     "output_type": "display_data"
    },
    {
     "data": {
      "application/vnd.jupyter.widget-view+json": {
       "model_id": "",
       "version_major": 2,
       "version_minor": 0
      },
      "text/plain": [
       "Validating: 0it [00:00, ?it/s]"
      ]
     },
     "metadata": {},
     "output_type": "display_data"
    },
    {
     "data": {
      "application/vnd.jupyter.widget-view+json": {
       "model_id": "",
       "version_major": 2,
       "version_minor": 0
      },
      "text/plain": [
       "Validating: 0it [00:00, ?it/s]"
      ]
     },
     "metadata": {},
     "output_type": "display_data"
    },
    {
     "data": {
      "application/vnd.jupyter.widget-view+json": {
       "model_id": "",
       "version_major": 2,
       "version_minor": 0
      },
      "text/plain": [
       "Validating: 0it [00:00, ?it/s]"
      ]
     },
     "metadata": {},
     "output_type": "display_data"
    },
    {
     "data": {
      "application/vnd.jupyter.widget-view+json": {
       "model_id": "",
       "version_major": 2,
       "version_minor": 0
      },
      "text/plain": [
       "Validating: 0it [00:00, ?it/s]"
      ]
     },
     "metadata": {},
     "output_type": "display_data"
    },
    {
     "data": {
      "application/vnd.jupyter.widget-view+json": {
       "model_id": "",
       "version_major": 2,
       "version_minor": 0
      },
      "text/plain": [
       "Validating: 0it [00:00, ?it/s]"
      ]
     },
     "metadata": {},
     "output_type": "display_data"
    },
    {
     "data": {
      "application/vnd.jupyter.widget-view+json": {
       "model_id": "",
       "version_major": 2,
       "version_minor": 0
      },
      "text/plain": [
       "Validating: 0it [00:00, ?it/s]"
      ]
     },
     "metadata": {},
     "output_type": "display_data"
    },
    {
     "data": {
      "application/vnd.jupyter.widget-view+json": {
       "model_id": "",
       "version_major": 2,
       "version_minor": 0
      },
      "text/plain": [
       "Validating: 0it [00:00, ?it/s]"
      ]
     },
     "metadata": {},
     "output_type": "display_data"
    },
    {
     "data": {
      "application/vnd.jupyter.widget-view+json": {
       "model_id": "",
       "version_major": 2,
       "version_minor": 0
      },
      "text/plain": [
       "Validating: 0it [00:00, ?it/s]"
      ]
     },
     "metadata": {},
     "output_type": "display_data"
    },
    {
     "data": {
      "application/vnd.jupyter.widget-view+json": {
       "model_id": "",
       "version_major": 2,
       "version_minor": 0
      },
      "text/plain": [
       "Validating: 0it [00:00, ?it/s]"
      ]
     },
     "metadata": {},
     "output_type": "display_data"
    },
    {
     "data": {
      "text/plain": [
       "1"
      ]
     },
     "execution_count": 12,
     "metadata": {},
     "output_type": "execute_result"
    }
   ],
   "source": [
    "from PY_classification.pytorch_lightning_multi import BertForSequenceClassificationMultiLabel_pl\n",
    "\n",
    "checkpoint = pl.callbacks.ModelCheckpoint(\n",
    "    monitor='val_loss',\n",
    "    mode='min',\n",
    "    save_top_k=1,\n",
    "    save_weights_only=True,\n",
    "    dirpath='part/model/'\n",
    ")\n",
    "\n",
    "#学習方法指定\n",
    "trainer = pl.Trainer(\n",
    "    gpus=1,\n",
    "    max_epochs=10,\n",
    "    callbacks=[checkpoint]\n",
    ")\n",
    "\n",
    "model = BertForSequenceClassificationMultiLabel_pl(\n",
    "    MODEL_NAME, num_labels=4, lr=1e-5\n",
    ")\n",
    "\n",
    "trainer.fit(model, dataloader_train, dataloader_val)"
   ]
  },
  {
   "cell_type": "code",
   "execution_count": 13,
   "id": "39d98a41-7fbc-4840-9cae-306c885c5603",
   "metadata": {},
   "outputs": [
    {
     "name": "stdout",
     "output_type": "stream",
     "text": [
      "validation data loss:0.2337140142917633\n",
      "The best path is /home/takakiyuto/Desktop/RESEARCH-COVID19-datasets/IPY_model/part/model/epoch=1-step=2813-v9.ckpt\n"
     ]
    }
   ],
   "source": [
    "best_model_path = checkpoint.best_model_path\n",
    "print(f'validation data loss:{checkpoint.best_model_score}')\n",
    "print(f'The best path is {best_model_path}')"
   ]
  },
  {
   "cell_type": "code",
   "execution_count": 14,
   "id": "022e2fba-d6da-433a-9320-5dc453519fb9",
   "metadata": {},
   "outputs": [
    {
     "data": {
      "text/html": [
       "\n",
       "      <iframe id=\"tensorboard-frame-13c80e939dc26c4a\" width=\"100%\" height=\"800\" frameborder=\"0\">\n",
       "      </iframe>\n",
       "      <script>\n",
       "        (function() {\n",
       "          const frame = document.getElementById(\"tensorboard-frame-13c80e939dc26c4a\");\n",
       "          const url = new URL(\"/\", window.location);\n",
       "          const port = 6006;\n",
       "          if (port) {\n",
       "            url.port = port;\n",
       "          }\n",
       "          frame.src = url;\n",
       "        })();\n",
       "      </script>\n",
       "    "
      ],
      "text/plain": [
       "<IPython.core.display.HTML object>"
      ]
     },
     "metadata": {},
     "output_type": "display_data"
    }
   ],
   "source": [
    "%load_ext tensorboard\n",
    "%tensorboard --logdir ./"
   ]
  },
  {
   "cell_type": "code",
   "execution_count": 15,
   "id": "31962578-40d0-4878-80a3-8d64c33d10ae",
   "metadata": {},
   "outputs": [
    {
     "name": "stderr",
     "output_type": "stream",
     "text": [
      "LOCAL_RANK: 0 - CUDA_VISIBLE_DEVICES: [0]\n",
      "/home/takakiyuto/anaconda3/lib/python3.8/site-packages/pytorch_lightning/utilities/distributed.py:52: UserWarning: The dataloader, test dataloader 0, does not have many workers which may be a bottleneck. Consider increasing the value of the `num_workers` argument` (try 16 which is the number of cpus on this machine) in the `DataLoader` init to improve performance.\n",
      "  warnings.warn(*args, **kwargs)\n"
     ]
    },
    {
     "data": {
      "application/vnd.jupyter.widget-view+json": {
       "model_id": "964dffacf7714c65a41fbc27b585df4a",
       "version_major": 2,
       "version_minor": 0
      },
      "text/plain": [
       "Testing: 0it [00:00, ?it/s]"
      ]
     },
     "metadata": {},
     "output_type": "display_data"
    },
    {
     "name": "stdout",
     "output_type": "stream",
     "text": [
      "--------------------------------------------------------------------------------\n",
      "DATALOADER:0 TEST RESULTS\n",
      "{'accuracy': 0.7871801853179932}\n",
      "--------------------------------------------------------------------------------\n",
      "Accuracy: 0.7872\n"
     ]
    }
   ],
   "source": [
    "test = trainer.test(test_dataloaders=dataloader_test, ckpt_path=best_model_path)\n",
    "print(f'Accuracy: {test[0][\"accuracy\"]:.4f}')"
   ]
  }
 ],
 "metadata": {
  "kernelspec": {
   "display_name": "Python 3",
   "language": "python",
   "name": "python3"
  },
  "language_info": {
   "codemirror_mode": {
    "name": "ipython",
    "version": 3
   },
   "file_extension": ".py",
   "mimetype": "text/x-python",
   "name": "python",
   "nbconvert_exporter": "python",
   "pygments_lexer": "ipython3",
   "version": "3.8.8"
  }
 },
 "nbformat": 4,
 "nbformat_minor": 5
}
