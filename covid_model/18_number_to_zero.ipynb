{
 "cells": [
  {
   "cell_type": "code",
   "execution_count": 1,
   "id": "0662914e-bff9-4a33-a7db-96596a0526b6",
   "metadata": {},
   "outputs": [],
   "source": [
    "%load_ext autoreload\n",
    "%autoreload 2"
   ]
  },
  {
   "cell_type": "code",
   "execution_count": 2,
   "id": "49d00d7f-aed7-4d0d-9c4f-947f763dbfff",
   "metadata": {},
   "outputs": [],
   "source": [
    "import sys\n",
    "sys.path.append('..')"
   ]
  },
  {
   "cell_type": "code",
   "execution_count": 3,
   "id": "7b4e3d71-9d00-4277-92e3-a712c478d740",
   "metadata": {},
   "outputs": [],
   "source": [
    "from PY_tweet.lists_file import dumpJoblib, loadJoblib\n",
    "\n",
    "data = loadJoblib('../DATA_all_texts/only_4labels_textdata.joblib')\n",
    "label = loadJoblib('../DATA_all_texts/only_4labels_label.joblib')"
   ]
  },
  {
   "cell_type": "code",
   "execution_count": 4,
   "id": "9aaf02cc-4896-4016-b937-8a71ab3bfd4a",
   "metadata": {},
   "outputs": [],
   "source": [
    "from PY_preprocessing import remove\n",
    "\n",
    "rm = remove.Remove()\n",
    "data = rm.number_to_zero(data)"
   ]
  },
  {
   "cell_type": "code",
   "execution_count": 5,
   "id": "1cf133f5-8c72-445a-8eee-bd8fcdd10d51",
   "metadata": {},
   "outputs": [
    {
     "data": {
      "text/plain": [
       "['更新：WHOは新型コロナウイルスの正式名称を「COVID-0」とすると発表しました\\nhttps://t.co/zFQKGGXpse',\n",
       " 'これって英語圏の人は見間違えないのかな？\\n\\n#GODIVA #COVID0\\n\\n新型コロナウイルスの名称「COVID-0」をゴディバと見間違えるが続出 https://t.co/z0CxZFpQmQ',\n",
       " '#新型コロナ ウイルス感染症の拡大防止に係る #災害派遣  \\n要員として航空機動衛生隊の隊員0名がクルーズ船「ダイヤモンドプリンセス号」医療支援のため小牧基地を出発しました。\\n#COVID0 https://t.co/X0tEvmR0im',\n",
       " '未曾有の事態の中、中国政府は言論の自由を奪っています\\n\\n記事では、中国国内の実態の取材に尽力していた記者が拘束されたことを報道しています\\n\\n中国国民も、政府に対して不信感を募らせています🇨🇳\\n\\n政府による人災とならないことを祈りま… https://t.co/0QJemwK0h',\n",
       " '新しいコロナウィルスの名称\\nCOVID-0とWHO命名。クールで恐ろしい名前やな\\n#COVID0 #新型コロナウィルス #やばい病気',\n",
       " '☆新型コロナウィルス相談窓口（各都道府県）\\n一応窓口は、ありますが、まず、風邪でしょうといわれます。⇒理由：国内で一人でも感染者が出たらパニックになるから?（封じ込められてないことがばれるから？）#nCoV #COVID_0\\u3000https://t.co/PMB0Jb0wip',\n",
       " '新型コロナウイルスCOVID-0に罹患した妊婦は，妊娠していない成人と臨床的特徴は同様であり，出産および新生児に特に問題なし．羊水，臍帯血からもウイルスは検出されなかった．0症例報告．（Lancet 0, Feb 0）\\nhttps://t.co/y0b0xsOzH',\n",
       " 'いっふー☀\\nさくらいふちゃんだよ🌸\\n＼#手洗い で手首も洗ってる❓／\\n\\n手首にも意外とウイルスやばい菌がついているよΣ（・□・；）\\n洗い残しのないように、ちゃんと洗おうね！\\n\\n#新型コロナウイルス  #COVID0… https://t.co/oFnSmC0yN',\n",
       " '湖北省\\n\\n感染爆発か\\n\\n0日で\\n感染者0万0千人増加\\n\\n死者も0人超増える\\n\\n#covid0\\n新型コロナの流行の終息時期\\u3000WHO「見通せない」 https://t.co/zyXXQfofcz',\n",
       " '【中央日報】韓国人は新型肺炎の潜在保菌者? オランダ航空の「人種差別」が俎上に\\n\\nオランダ航空会社であるKLM航空が人種差別の論議に巻き込まれた。「COVID-0(新型コロナウイルス)」に関連して韓国人に差別的な措置を取ったとい… https://t.co/DtMl0eIslb',\n",
       " '新型コロナウイルス(0-nCoV, COVID-0)の重症管理に役立つコクランエビデンスを集めた特集号の日本語訳が完了しました。\\nそれぞれのコクランレビューのリンクは訳のあるものについては日本語表記されるリンクにしています… https://t.co/SDPE0z0vbk',\n",
       " '検疫官も感染してしまうとなると、やはり乗客と接する乗員は全数検査するべきだと思う。\\n\\n #新型肺炎 #新型コロナウィルス #COVID0 #クルーズ船 #ひるおび',\n",
       " '新型コロナウイルス（COVID－0）治療の最前線に立つ、大曲貴夫先生にお話を伺いました。「国内では一人も死なせない」と連日奮闘なさって、体重が0キロ落ちたとのこと。院内感染管理の重要性や最新治療、一般の人ができることも話して頂き… https://t.co/phM0oe0m0l',\n",
       " 'クルーズ船「ダイヤモンドプリンス号」の乗客輸送支援として #小牧基地 #第0輸送航空隊 管理隊員0名と大型バス0台が出発しました。\\n#新型コロナウイルス \\n#災害派遣 \\n#covid0 https://t.co/J0Nc0M0wq',\n",
       " '急に新型コロナウイルスCOVID-0患者数が0日で0例（うち0例近くは武漢）急増しましたが、これはこれまでCTやPCRで陽性とでなかったけど疑わしい症例を臨床診断として患者数に含めたからのようです。PCRの検査感… https://t.co/Ni0cUXX0G',\n",
       " '都内のタクシー運転手が感染。遅かれ早かれ来ると判っていた事だが…。情報の確実さの責任に束縛された専門家の発信が後手に回った結果、世の中全体の、そして業界の動きが遅きに失した感がある。\\n#NHK #首都圏ネットワーク #新型コロナウイルス #COVID0 #感染症',\n",
       " '【速報】東京都内のタクシー運転手の男性、新型コロナウイルスに感染確認\\n#COVID0 #新型肺炎 #新型コロナウイルス',\n",
       " '中国では看護師はウィルスが髪につかないようにマルコメちゃんに。\\n髪の長い女性は切ったりまとめた方が良いかもしれない。\\n\\n#coronavirus\\n#コロナウィルス\\n#新型コロナウィルス\\n#COVID0 https://t.co/VcP0WxqVdi',\n",
       " '#新型コロナウイルス\\u3000COVID-0\\n\\n和歌山県の感染者は\\u3000医師とのことです。\\n\\n医師も命懸けです！\\n\\n正しい #感染対策 をお願いします。\\n\\nhttps://t.co/GCAGSobbsj',\n",
       " '日本政府､緊急ウイルス対策に総額0億円\\u3000ワクチン開発やマスク増産､簡易検査キット準備へ https://t.co/HvLjoIhP0 #COVID0 #新型コロナウイルス #新型肺炎 #コロナウイルス #感染者 #WHO #ワクチン #簡易検査キット #マスク #予備費',\n",
       " '新型コロナウイルス 神奈川の0代女性死亡 感染者死亡は国内初 | NHKニュース   https://t.co/MvxfD0Zmk\\n神奈川県内の病院で亡くなられた女性は日本国籍の方。感染経路などを早期に公表してほしい。\\n＃COVID0\\u3000＃新型肺炎',\n",
       " '#新型コロナウイルス COVID-0\\n\\n新型コロナウイルスのことが\\u3000皆様お分かりになったと思います。\\n\\n医師も命懸けです！\\n\\n冷静に正しい #感染対策 をお願いします。\\n\\n新型肺炎で国内初の死者（共同通信） https://t.co/0wv0NR0E',\n",
       " 'フォロワーさんに医療従事者の方がいればお聞きしたいのですが、COVID-0って、未知のウィルスと言われていますが、コロナウィルスの範囲内での「未知」なのでしょうか？\\nそれともコロナウィルスの性質を飛び越えた未知なのでしょうか？\\nずーーっと気になっております。',\n",
       " '急に新型コロナウイルスの感染患者が増えたけど、みんな0/0くらいに具合悪くなって病院行って、普通に肺炎って診断されて、詳しく調べたらCOVID-0だったって。\\nこれは国内でかなり蔓延してると見た',\n",
       " 'これはアメリカよりも、今の日本が該当する。数週間で日本国内の武漢肺炎・COVID感染者が急増することを覚悟すべきだ。#新型コロナウイルス https://t.co/Yee0sGo0dL',\n",
       " 'COVID-0は和名は「0式コロナウィルス」でよいの？やはり和暦で「0式冠状病毒」？',\n",
       " '対策とるならガッツリと短期決戦していかないといけないと思います\\n#厚生労働省\\u3000#安倍内閣\\u3000#河野太郎\\u3000#COVID0 #coronaravirus #コロナウイルス https://t.co/GGHIOSjpCu',\n",
       " '感染において・\\n\\n・種を早く発見すること\\n・種を播き広げないこと\\n・芽を早く見つけること\\n・芽を早く摘みとること\\n\\n日本中において必要とされることだ。\\n日本中のどこにおいても速やかに対応ができるようにする必要がある。\\n\\n#COVID0 \\n#新型肺炎\\n#新型コロナウイルス',\n",
       " '#新型コロナウイルス\\u3000#COVID\\n#グッとラック\\n感染防止のひとつとして「辛いものは食べない」と\\n#ナビタスクリニック の女性医師が紹介していたが\\n何の根拠もない。世界中に蔓延するよくあるガセ情報の\\nひとつ。キムチ会社や唐辛子農… https://t.co/qk0OC0oghB',\n",
       " '＃新型コロナウィルス\\u3000#Coronavirus\\n＃新型冠状病毒肺炎 \\n#COVID0   \\n\\nオリンピックはできないですね。 https://t.co/BbIksH0AvB']"
      ]
     },
     "execution_count": 5,
     "metadata": {},
     "output_type": "execute_result"
    }
   ],
   "source": [
    "data[:30]"
   ]
  },
  {
   "cell_type": "code",
   "execution_count": 6,
   "id": "62a6214d-02c5-497d-9a6b-683fe6ed0395",
   "metadata": {},
   "outputs": [
    {
     "name": "stdout",
     "output_type": "stream",
     "text": [
      "Requirement already satisfied: transformers==4.5.0 in /home/takakiyuto/anaconda3/lib/python3.8/site-packages (4.5.0)\n",
      "Requirement already satisfied: fugashi==1.1.0 in /home/takakiyuto/anaconda3/lib/python3.8/site-packages (1.1.0)\n",
      "Requirement already satisfied: ipadic==1.0.0 in /home/takakiyuto/anaconda3/lib/python3.8/site-packages (1.0.0)\n",
      "Requirement already satisfied: pytorch-lightning==1.2.7 in /home/takakiyuto/anaconda3/lib/python3.8/site-packages (1.2.7)\n",
      "Requirement already satisfied: fsspec[http]>=0.8.1 in /home/takakiyuto/anaconda3/lib/python3.8/site-packages (from pytorch-lightning==1.2.7) (0.9.0)\n",
      "Requirement already satisfied: numpy>=1.16.6 in /home/takakiyuto/anaconda3/lib/python3.8/site-packages (from pytorch-lightning==1.2.7) (1.20.1)\n",
      "Requirement already satisfied: tqdm>=4.41.0 in /home/takakiyuto/anaconda3/lib/python3.8/site-packages (from pytorch-lightning==1.2.7) (4.59.0)\n",
      "Requirement already satisfied: torch>=1.4 in /home/takakiyuto/anaconda3/lib/python3.8/site-packages (from pytorch-lightning==1.2.7) (1.9.0)\n",
      "Requirement already satisfied: tensorboard>=2.2.0 in /home/takakiyuto/anaconda3/lib/python3.8/site-packages (from pytorch-lightning==1.2.7) (2.6.0)\n",
      "Requirement already satisfied: torchmetrics>=0.2.0 in /home/takakiyuto/anaconda3/lib/python3.8/site-packages (from pytorch-lightning==1.2.7) (0.2.0)\n",
      "Requirement already satisfied: PyYAML!=5.4.*,>=5.1 in /home/takakiyuto/anaconda3/lib/python3.8/site-packages (from pytorch-lightning==1.2.7) (5.3.1)\n",
      "Requirement already satisfied: future>=0.17.1 in /home/takakiyuto/anaconda3/lib/python3.8/site-packages (from pytorch-lightning==1.2.7) (0.18.2)\n",
      "Requirement already satisfied: requests in /home/takakiyuto/anaconda3/lib/python3.8/site-packages (from transformers==4.5.0) (2.25.1)\n",
      "Requirement already satisfied: tokenizers<0.11,>=0.10.1 in /home/takakiyuto/anaconda3/lib/python3.8/site-packages (from transformers==4.5.0) (0.10.3)\n",
      "Requirement already satisfied: regex!=2019.12.17 in /home/takakiyuto/anaconda3/lib/python3.8/site-packages (from transformers==4.5.0) (2021.4.4)\n",
      "Requirement already satisfied: sacremoses in /home/takakiyuto/anaconda3/lib/python3.8/site-packages (from transformers==4.5.0) (0.0.45)\n",
      "Requirement already satisfied: filelock in /home/takakiyuto/anaconda3/lib/python3.8/site-packages (from transformers==4.5.0) (3.0.12)\n",
      "Requirement already satisfied: packaging in /home/takakiyuto/anaconda3/lib/python3.8/site-packages (from transformers==4.5.0) (20.9)\n",
      "Requirement already satisfied: aiohttp in /home/takakiyuto/anaconda3/lib/python3.8/site-packages (from fsspec[http]>=0.8.1->pytorch-lightning==1.2.7) (3.7.4.post0)\n",
      "Requirement already satisfied: absl-py>=0.4 in /home/takakiyuto/anaconda3/lib/python3.8/site-packages (from tensorboard>=2.2.0->pytorch-lightning==1.2.7) (0.13.0)\n",
      "Requirement already satisfied: protobuf>=3.6.0 in /home/takakiyuto/anaconda3/lib/python3.8/site-packages (from tensorboard>=2.2.0->pytorch-lightning==1.2.7) (3.18.0)\n",
      "Requirement already satisfied: google-auth-oauthlib<0.5,>=0.4.1 in /home/takakiyuto/anaconda3/lib/python3.8/site-packages (from tensorboard>=2.2.0->pytorch-lightning==1.2.7) (0.4.6)\n",
      "Requirement already satisfied: markdown>=2.6.8 in /home/takakiyuto/anaconda3/lib/python3.8/site-packages (from tensorboard>=2.2.0->pytorch-lightning==1.2.7) (3.3.4)\n",
      "Requirement already satisfied: wheel>=0.26 in /home/takakiyuto/anaconda3/lib/python3.8/site-packages (from tensorboard>=2.2.0->pytorch-lightning==1.2.7) (0.36.2)\n",
      "Requirement already satisfied: werkzeug>=0.11.15 in /home/takakiyuto/anaconda3/lib/python3.8/site-packages (from tensorboard>=2.2.0->pytorch-lightning==1.2.7) (1.0.1)\n",
      "Requirement already satisfied: grpcio>=1.24.3 in /home/takakiyuto/anaconda3/lib/python3.8/site-packages (from tensorboard>=2.2.0->pytorch-lightning==1.2.7) (1.40.0)\n",
      "Requirement already satisfied: google-auth<2,>=1.6.3 in /home/takakiyuto/anaconda3/lib/python3.8/site-packages (from tensorboard>=2.2.0->pytorch-lightning==1.2.7) (1.35.0)\n",
      "Requirement already satisfied: tensorboard-data-server<0.7.0,>=0.6.0 in /home/takakiyuto/anaconda3/lib/python3.8/site-packages (from tensorboard>=2.2.0->pytorch-lightning==1.2.7) (0.6.1)\n",
      "Requirement already satisfied: tensorboard-plugin-wit>=1.6.0 in /home/takakiyuto/anaconda3/lib/python3.8/site-packages (from tensorboard>=2.2.0->pytorch-lightning==1.2.7) (1.8.0)\n",
      "Requirement already satisfied: setuptools>=41.0.0 in /home/takakiyuto/anaconda3/lib/python3.8/site-packages (from tensorboard>=2.2.0->pytorch-lightning==1.2.7) (52.0.0.post20210125)\n",
      "Requirement already satisfied: six in /home/takakiyuto/anaconda3/lib/python3.8/site-packages (from absl-py>=0.4->tensorboard>=2.2.0->pytorch-lightning==1.2.7) (1.15.0)\n",
      "Requirement already satisfied: pyasn1-modules>=0.2.1 in /home/takakiyuto/anaconda3/lib/python3.8/site-packages (from google-auth<2,>=1.6.3->tensorboard>=2.2.0->pytorch-lightning==1.2.7) (0.2.8)\n",
      "Requirement already satisfied: cachetools<5.0,>=2.0.0 in /home/takakiyuto/anaconda3/lib/python3.8/site-packages (from google-auth<2,>=1.6.3->tensorboard>=2.2.0->pytorch-lightning==1.2.7) (4.2.2)\n",
      "Requirement already satisfied: rsa<5,>=3.1.4 in /home/takakiyuto/anaconda3/lib/python3.8/site-packages (from google-auth<2,>=1.6.3->tensorboard>=2.2.0->pytorch-lightning==1.2.7) (4.7.2)\n",
      "Requirement already satisfied: requests-oauthlib>=0.7.0 in /home/takakiyuto/anaconda3/lib/python3.8/site-packages (from google-auth-oauthlib<0.5,>=0.4.1->tensorboard>=2.2.0->pytorch-lightning==1.2.7) (1.3.0)\n",
      "Requirement already satisfied: pyasn1<0.5.0,>=0.4.6 in /home/takakiyuto/anaconda3/lib/python3.8/site-packages (from pyasn1-modules>=0.2.1->google-auth<2,>=1.6.3->tensorboard>=2.2.0->pytorch-lightning==1.2.7) (0.4.8)\n",
      "Requirement already satisfied: idna<3,>=2.5 in /home/takakiyuto/anaconda3/lib/python3.8/site-packages (from requests->transformers==4.5.0) (2.10)\n",
      "Requirement already satisfied: chardet<5,>=3.0.2 in /home/takakiyuto/anaconda3/lib/python3.8/site-packages (from requests->transformers==4.5.0) (4.0.0)\n",
      "Requirement already satisfied: certifi>=2017.4.17 in /home/takakiyuto/anaconda3/lib/python3.8/site-packages (from requests->transformers==4.5.0) (2020.12.5)\n",
      "Requirement already satisfied: urllib3<1.27,>=1.21.1 in /home/takakiyuto/anaconda3/lib/python3.8/site-packages (from requests->transformers==4.5.0) (1.26.4)\n",
      "Requirement already satisfied: oauthlib>=3.0.0 in /home/takakiyuto/anaconda3/lib/python3.8/site-packages (from requests-oauthlib>=0.7.0->google-auth-oauthlib<0.5,>=0.4.1->tensorboard>=2.2.0->pytorch-lightning==1.2.7) (3.1.1)\n",
      "Requirement already satisfied: typing_extensions in /home/takakiyuto/anaconda3/lib/python3.8/site-packages (from torch>=1.4->pytorch-lightning==1.2.7) (3.7.4.3)\n",
      "Requirement already satisfied: async-timeout<4.0,>=3.0 in /home/takakiyuto/anaconda3/lib/python3.8/site-packages (from aiohttp->fsspec[http]>=0.8.1->pytorch-lightning==1.2.7) (3.0.1)\n",
      "Requirement already satisfied: attrs>=17.3.0 in /home/takakiyuto/anaconda3/lib/python3.8/site-packages (from aiohttp->fsspec[http]>=0.8.1->pytorch-lightning==1.2.7) (20.3.0)\n",
      "Requirement already satisfied: multidict<7.0,>=4.5 in /home/takakiyuto/anaconda3/lib/python3.8/site-packages (from aiohttp->fsspec[http]>=0.8.1->pytorch-lightning==1.2.7) (5.1.0)\n",
      "Requirement already satisfied: yarl<2.0,>=1.0 in /home/takakiyuto/anaconda3/lib/python3.8/site-packages (from aiohttp->fsspec[http]>=0.8.1->pytorch-lightning==1.2.7) (1.6.3)\n",
      "Requirement already satisfied: pyparsing>=2.0.2 in /home/takakiyuto/anaconda3/lib/python3.8/site-packages (from packaging->transformers==4.5.0) (2.4.7)\n",
      "Requirement already satisfied: joblib in /home/takakiyuto/anaconda3/lib/python3.8/site-packages (from sacremoses->transformers==4.5.0) (1.0.1)\n",
      "Requirement already satisfied: click in /home/takakiyuto/anaconda3/lib/python3.8/site-packages (from sacremoses->transformers==4.5.0) (7.1.2)\n"
     ]
    }
   ],
   "source": [
    "!pip install transformers==4.5.0 fugashi==1.1.0 ipadic==1.0.0 pytorch-lightning==1.2.7"
   ]
  },
  {
   "cell_type": "code",
   "execution_count": 7,
   "id": "7c9cc33d-7a51-45a2-9529-380ac52bfd2b",
   "metadata": {},
   "outputs": [],
   "source": [
    "import random \n",
    "import glob\n",
    "import json\n",
    "from tqdm import tqdm\n",
    "import unicodedata\n",
    "\n",
    "import numpy as np\n",
    "import pandas as pd\n",
    "import torch\n",
    "from torch.utils.data import DataLoader\n",
    "import pytorch_lightning as pl\n",
    "from transformers import BertTokenizer, BertModel\n",
    "\n",
    "from PY_classification.multi_classification import BertForSequenceClassificationMultiLabel\n",
    "\n",
    "MODEL_NAME = 'cl-tohoku/bert-base-japanese-whole-word-masking'"
   ]
  },
  {
   "cell_type": "code",
   "execution_count": 8,
   "id": "c1c1a433-c376-4a50-8978-b33f1ca2c172",
   "metadata": {},
   "outputs": [
    {
     "data": {
      "text/plain": [
       "device(type='cuda')"
      ]
     },
     "execution_count": 8,
     "metadata": {},
     "output_type": "execute_result"
    }
   ],
   "source": [
    "device = torch.device('cuda') if torch.cuda.is_available() else torch.device('cpu')\n",
    "device"
   ]
  },
  {
   "cell_type": "code",
   "execution_count": 9,
   "id": "6397a017-7bc4-4787-a144-5c6ac606bfba",
   "metadata": {},
   "outputs": [],
   "source": [
    "tokenizer = BertTokenizer.from_pretrained(MODEL_NAME)\n",
    "bert_scml = BertForSequenceClassificationMultiLabel(\n",
    "    MODEL_NAME, num_labels=4\n",
    ") \n",
    "bert_scml = bert_scml.to(device=device)"
   ]
  },
  {
   "cell_type": "code",
   "execution_count": 10,
   "id": "fa42a406-0ef7-405e-aeea-f9a61097b75d",
   "metadata": {},
   "outputs": [],
   "source": [
    "\n",
    "labels = []\n",
    "for emotion in label:\n",
    "    if emotion == 63:\n",
    "        labels.append([1, 0, 0, 0])\n",
    "    elif emotion == 64:\n",
    "        labels.append([0, 1, 0, 0])\n",
    "    elif emotion == 65:\n",
    "        labels.append([0, 0, 1, 0])\n",
    "    else:\n",
    "        labels.append([0, 0, 0, 1])"
   ]
  },
  {
   "cell_type": "code",
   "execution_count": 11,
   "id": "7933f7cd-82a3-4e9e-bce6-559c42149126",
   "metadata": {},
   "outputs": [],
   "source": [
    "max_length = 152\n",
    "dataset_for_loader = []\n",
    "\n",
    "for text, label in zip(data, labels):\n",
    "    encoding = tokenizer(\n",
    "      text, \n",
    "      max_length=max_length,\n",
    "      padding='max_length',\n",
    "      truncation=True\n",
    "    )\n",
    "    encoding['labels'] = label\n",
    "    encoding = {k: torch.tensor(v).to(device=device) for k, v in encoding.items() }\n",
    "    dataset_for_loader.append(encoding)\n",
    "    \n",
    "\n",
    "random.shuffle(dataset_for_loader)\n",
    "n = len(dataset_for_loader)\n",
    "n_train = int(0.6*n)\n",
    "n_val = int(0.2*n)\n",
    "dataset_train = dataset_for_loader[:n_train]\n",
    "dataset_val = dataset_for_loader[n_train:n_train+n_val]\n",
    "dataset_test = dataset_for_loader[n_train+n_val:]"
   ]
  },
  {
   "cell_type": "code",
   "execution_count": 12,
   "id": "dabfad12-ea35-40a6-b1cd-c97fcfaa74b4",
   "metadata": {},
   "outputs": [
    {
     "data": {
      "text/plain": [
       "<torch.utils.data.dataloader.DataLoader at 0x7f2f0dac8f40>"
      ]
     },
     "execution_count": 12,
     "metadata": {},
     "output_type": "execute_result"
    }
   ],
   "source": [
    "dataloader_train = DataLoader(\n",
    "    dataset_train, batch_size=16, shuffle=True\n",
    ")\n",
    "dataloader_val = DataLoader(\n",
    "    dataset_val, batch_size=16\n",
    ")\n",
    "dataloader_test = DataLoader(\n",
    "    dataset_test, batch_size=16\n",
    ")\n",
    "\n",
    "dataloader_val"
   ]
  },
  {
   "cell_type": "code",
   "execution_count": 13,
   "id": "ec29d109-e08d-42cc-a4fa-e00aa1ff3655",
   "metadata": {},
   "outputs": [
    {
     "name": "stderr",
     "output_type": "stream",
     "text": [
      "/home/takakiyuto/anaconda3/lib/python3.8/site-packages/pytorch_lightning/utilities/distributed.py:52: UserWarning: Checkpoint directory part/model/ exists and is not empty.\n",
      "  warnings.warn(*args, **kwargs)\n",
      "GPU available: True, used: True\n",
      "TPU available: False, using: 0 TPU cores\n",
      "LOCAL_RANK: 0 - CUDA_VISIBLE_DEVICES: [0]\n",
      "\n",
      "  | Name      | Type                                    | Params\n",
      "----------------------------------------------------------------------\n",
      "0 | bert_scml | BertForSequenceClassificationMultiLabel | 110 M \n",
      "----------------------------------------------------------------------\n",
      "110 M     Trainable params\n",
      "0         Non-trainable params\n",
      "110 M     Total params\n",
      "442.482   Total estimated model params size (MB)\n",
      "/home/takakiyuto/anaconda3/lib/python3.8/site-packages/pytorch_lightning/utilities/distributed.py:52: UserWarning: The dataloader, val dataloader 0, does not have many workers which may be a bottleneck. Consider increasing the value of the `num_workers` argument` (try 16 which is the number of cpus on this machine) in the `DataLoader` init to improve performance.\n",
      "  warnings.warn(*args, **kwargs)\n"
     ]
    },
    {
     "data": {
      "application/vnd.jupyter.widget-view+json": {
       "model_id": "",
       "version_major": 2,
       "version_minor": 0
      },
      "text/plain": [
       "Validation sanity check: 0it [00:00, ?it/s]"
      ]
     },
     "metadata": {},
     "output_type": "display_data"
    },
    {
     "name": "stderr",
     "output_type": "stream",
     "text": [
      "/home/takakiyuto/anaconda3/lib/python3.8/site-packages/pytorch_lightning/utilities/distributed.py:52: UserWarning: The dataloader, train dataloader, does not have many workers which may be a bottleneck. Consider increasing the value of the `num_workers` argument` (try 16 which is the number of cpus on this machine) in the `DataLoader` init to improve performance.\n",
      "  warnings.warn(*args, **kwargs)\n"
     ]
    },
    {
     "data": {
      "application/vnd.jupyter.widget-view+json": {
       "model_id": "0297c94ae0e14dd5b51590096dd375fd",
       "version_major": 2,
       "version_minor": 0
      },
      "text/plain": [
       "Training: 0it [00:00, ?it/s]"
      ]
     },
     "metadata": {},
     "output_type": "display_data"
    },
    {
     "data": {
      "application/vnd.jupyter.widget-view+json": {
       "model_id": "",
       "version_major": 2,
       "version_minor": 0
      },
      "text/plain": [
       "Validating: 0it [00:00, ?it/s]"
      ]
     },
     "metadata": {},
     "output_type": "display_data"
    },
    {
     "data": {
      "application/vnd.jupyter.widget-view+json": {
       "model_id": "",
       "version_major": 2,
       "version_minor": 0
      },
      "text/plain": [
       "Validating: 0it [00:00, ?it/s]"
      ]
     },
     "metadata": {},
     "output_type": "display_data"
    },
    {
     "data": {
      "application/vnd.jupyter.widget-view+json": {
       "model_id": "",
       "version_major": 2,
       "version_minor": 0
      },
      "text/plain": [
       "Validating: 0it [00:00, ?it/s]"
      ]
     },
     "metadata": {},
     "output_type": "display_data"
    },
    {
     "data": {
      "application/vnd.jupyter.widget-view+json": {
       "model_id": "",
       "version_major": 2,
       "version_minor": 0
      },
      "text/plain": [
       "Validating: 0it [00:00, ?it/s]"
      ]
     },
     "metadata": {},
     "output_type": "display_data"
    },
    {
     "data": {
      "application/vnd.jupyter.widget-view+json": {
       "model_id": "",
       "version_major": 2,
       "version_minor": 0
      },
      "text/plain": [
       "Validating: 0it [00:00, ?it/s]"
      ]
     },
     "metadata": {},
     "output_type": "display_data"
    },
    {
     "data": {
      "application/vnd.jupyter.widget-view+json": {
       "model_id": "",
       "version_major": 2,
       "version_minor": 0
      },
      "text/plain": [
       "Validating: 0it [00:00, ?it/s]"
      ]
     },
     "metadata": {},
     "output_type": "display_data"
    },
    {
     "data": {
      "application/vnd.jupyter.widget-view+json": {
       "model_id": "",
       "version_major": 2,
       "version_minor": 0
      },
      "text/plain": [
       "Validating: 0it [00:00, ?it/s]"
      ]
     },
     "metadata": {},
     "output_type": "display_data"
    },
    {
     "data": {
      "application/vnd.jupyter.widget-view+json": {
       "model_id": "",
       "version_major": 2,
       "version_minor": 0
      },
      "text/plain": [
       "Validating: 0it [00:00, ?it/s]"
      ]
     },
     "metadata": {},
     "output_type": "display_data"
    },
    {
     "data": {
      "application/vnd.jupyter.widget-view+json": {
       "model_id": "",
       "version_major": 2,
       "version_minor": 0
      },
      "text/plain": [
       "Validating: 0it [00:00, ?it/s]"
      ]
     },
     "metadata": {},
     "output_type": "display_data"
    },
    {
     "data": {
      "application/vnd.jupyter.widget-view+json": {
       "model_id": "",
       "version_major": 2,
       "version_minor": 0
      },
      "text/plain": [
       "Validating: 0it [00:00, ?it/s]"
      ]
     },
     "metadata": {},
     "output_type": "display_data"
    },
    {
     "data": {
      "text/plain": [
       "1"
      ]
     },
     "execution_count": 13,
     "metadata": {},
     "output_type": "execute_result"
    }
   ],
   "source": [
    "from PY_classification.pytorch_lightning_multi import BertForSequenceClassificationMultiLabel_pl\n",
    "\n",
    "checkpoint = pl.callbacks.ModelCheckpoint(\n",
    "    monitor='val_loss',\n",
    "    mode='min',\n",
    "    save_top_k=1,\n",
    "    save_weights_only=True,\n",
    "    dirpath='part/model/'\n",
    ")\n",
    "\n",
    "#学習方法指定\n",
    "trainer = pl.Trainer(\n",
    "    gpus=1,\n",
    "    max_epochs=10,\n",
    "    callbacks=[checkpoint]\n",
    ")\n",
    "\n",
    "model = BertForSequenceClassificationMultiLabel_pl(\n",
    "    MODEL_NAME, num_labels=4, lr=1e-5\n",
    ")\n",
    "\n",
    "trainer.fit(model, dataloader_train, dataloader_val)"
   ]
  },
  {
   "cell_type": "code",
   "execution_count": 14,
   "id": "cdb6be38-3253-4de0-91f5-b9a630d851c1",
   "metadata": {},
   "outputs": [
    {
     "name": "stdout",
     "output_type": "stream",
     "text": [
      "validation data loss:0.22354905307292938\n",
      "The best path is /home/takakiyuto/Desktop/RESEARCH-COVID19-datasets/IPY_model/part/model/epoch=1-step=2813-v17.ckpt\n"
     ]
    }
   ],
   "source": [
    "best_model_path = checkpoint.best_model_path\n",
    "print(f'validation data loss:{checkpoint.best_model_score}')\n",
    "print(f'The best path is {best_model_path}')"
   ]
  },
  {
   "cell_type": "code",
   "execution_count": 15,
   "id": "8f290b2e-932c-4044-8d6a-ee9d2dc1ccfd",
   "metadata": {},
   "outputs": [
    {
     "data": {
      "text/html": [
       "\n",
       "      <iframe id=\"tensorboard-frame-62d6435ace0f4537\" width=\"100%\" height=\"800\" frameborder=\"0\">\n",
       "      </iframe>\n",
       "      <script>\n",
       "        (function() {\n",
       "          const frame = document.getElementById(\"tensorboard-frame-62d6435ace0f4537\");\n",
       "          const url = new URL(\"/\", window.location);\n",
       "          const port = 6006;\n",
       "          if (port) {\n",
       "            url.port = port;\n",
       "          }\n",
       "          frame.src = url;\n",
       "        })();\n",
       "      </script>\n",
       "    "
      ],
      "text/plain": [
       "<IPython.core.display.HTML object>"
      ]
     },
     "metadata": {},
     "output_type": "display_data"
    }
   ],
   "source": [
    "%load_ext tensorboard\n",
    "%tensorboard --logdir ./"
   ]
  },
  {
   "cell_type": "code",
   "execution_count": 16,
   "id": "ff8047be-979e-4e49-b5f4-1ea78743c713",
   "metadata": {},
   "outputs": [
    {
     "name": "stderr",
     "output_type": "stream",
     "text": [
      "LOCAL_RANK: 0 - CUDA_VISIBLE_DEVICES: [0]\n",
      "/home/takakiyuto/anaconda3/lib/python3.8/site-packages/pytorch_lightning/utilities/distributed.py:52: UserWarning: The dataloader, test dataloader 0, does not have many workers which may be a bottleneck. Consider increasing the value of the `num_workers` argument` (try 16 which is the number of cpus on this machine) in the `DataLoader` init to improve performance.\n",
      "  warnings.warn(*args, **kwargs)\n"
     ]
    },
    {
     "data": {
      "application/vnd.jupyter.widget-view+json": {
       "model_id": "642df4aa0f42426e8913fc9e20b1d534",
       "version_major": 2,
       "version_minor": 0
      },
      "text/plain": [
       "Testing: 0it [00:00, ?it/s]"
      ]
     },
     "metadata": {},
     "output_type": "display_data"
    },
    {
     "name": "stdout",
     "output_type": "stream",
     "text": [
      "--------------------------------------------------------------------------------\n",
      "DATALOADER:0 TEST RESULTS\n",
      "{'accuracy': 0.7830490469932556}\n",
      "--------------------------------------------------------------------------------\n",
      "Accuracy: 0.7830\n"
     ]
    }
   ],
   "source": [
    "test = trainer.test(test_dataloaders=dataloader_test, ckpt_path=best_model_path)\n",
    "print(f'Accuracy: {test[0][\"accuracy\"]:.4f}')"
   ]
  }
 ],
 "metadata": {
  "kernelspec": {
   "display_name": "Python 3",
   "language": "python",
   "name": "python3"
  },
  "language_info": {
   "codemirror_mode": {
    "name": "ipython",
    "version": 3
   },
   "file_extension": ".py",
   "mimetype": "text/x-python",
   "name": "python",
   "nbconvert_exporter": "python",
   "pygments_lexer": "ipython3",
   "version": "3.8.8"
  }
 },
 "nbformat": 4,
 "nbformat_minor": 5
}
