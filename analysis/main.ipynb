{
 "cells": [
  {
   "cell_type": "code",
   "execution_count": 18,
   "metadata": {},
   "outputs": [
    {
     "name": "stdout",
     "output_type": "stream",
     "text": [
      "The autoreload extension is already loaded. To reload it, use:\n",
      "  %reload_ext autoreload\n"
     ]
    }
   ],
   "source": [
    "%load_ext autoreload\n",
    "%autoreload 2"
   ]
  },
  {
   "cell_type": "code",
   "execution_count": 19,
   "metadata": {},
   "outputs": [
    {
     "name": "stdout",
     "output_type": "stream",
     "text": [
      "Requirement already satisfied: emoji in /Users/takakiyuuto/opt/anaconda3/lib/python3.8/site-packages (1.6.1)\n",
      "^C\n",
      "\u001b[31mERROR: Operation cancelled by user\u001b[0m\n"
     ]
    }
   ],
   "source": [
    "!pip install emoji"
   ]
  },
  {
   "cell_type": "code",
   "execution_count": 20,
   "metadata": {},
   "outputs": [],
   "source": [
    "import os\n",
    "import glob\n",
    "\n",
    "import pandas as pd\n",
    "import numpy as np\n",
    "\n",
    "import emoji"
   ]
  },
  {
   "cell_type": "code",
   "execution_count": 21,
   "metadata": {},
   "outputs": [],
   "source": [
    "import matplotlib.pyplot as plt\n",
    "import seaborn as sns\n",
    "\n",
    "%matplotlib inline\n",
    "sns.set()"
   ]
  },
  {
   "cell_type": "code",
   "execution_count": 22,
   "metadata": {},
   "outputs": [
    {
     "name": "stdout",
     "output_type": "stream",
     "text": [
      "10000\n"
     ]
    },
    {
     "data": {
      "text/html": [
       "<div>\n",
       "<style scoped>\n",
       "    .dataframe tbody tr th:only-of-type {\n",
       "        vertical-align: middle;\n",
       "    }\n",
       "\n",
       "    .dataframe tbody tr th {\n",
       "        vertical-align: top;\n",
       "    }\n",
       "\n",
       "    .dataframe thead th {\n",
       "        text-align: right;\n",
       "    }\n",
       "</style>\n",
       "<table border=\"1\" class=\"dataframe\">\n",
       "  <thead>\n",
       "    <tr style=\"text-align: right;\">\n",
       "      <th></th>\n",
       "      <th>Unnamed: 0</th>\n",
       "      <th>tweet_id</th>\n",
       "      <th>tweet_full_text</th>\n",
       "      <th>finlabel</th>\n",
       "    </tr>\n",
       "  </thead>\n",
       "  <tbody>\n",
       "    <tr>\n",
       "      <th>0</th>\n",
       "      <td>0</td>\n",
       "      <td>1370151453805871104</td>\n",
       "      <td>おはようございます☀\\n\\n休職382日目。昨日はたくさんのリプありがとうございました😭✨こ...</td>\n",
       "      <td>1</td>\n",
       "    </tr>\n",
       "    <tr>\n",
       "      <th>1</th>\n",
       "      <td>1</td>\n",
       "      <td>1396246713044652032</td>\n",
       "      <td>就活生のためのグループディスカッション対策まとめ(40176view)｜ https://t...</td>\n",
       "      <td>4</td>\n",
       "    </tr>\n",
       "    <tr>\n",
       "      <th>2</th>\n",
       "      <td>2</td>\n",
       "      <td>1397335585459560449</td>\n",
       "      <td>【登録してくべき就活サイト】\\n就職活動において、情報量が大きな武器になります。 以下のサイ...</td>\n",
       "      <td>4</td>\n",
       "    </tr>\n",
       "    <tr>\n",
       "      <th>3</th>\n",
       "      <td>3</td>\n",
       "      <td>1375959601900777474</td>\n",
       "      <td>[就活のお悩みを記入してね] #宇賀なつみ アナに就活相談しよう！抽選で8名様に宇賀アナへの...</td>\n",
       "      <td>3</td>\n",
       "    </tr>\n",
       "    <tr>\n",
       "      <th>4</th>\n",
       "      <td>4</td>\n",
       "      <td>1347685399552880641</td>\n",
       "      <td>ESは就活におけるあなたの名刺代わりのようなもの、\\n面接でもベースになるのはES、甘く見て...</td>\n",
       "      <td>4</td>\n",
       "    </tr>\n",
       "  </tbody>\n",
       "</table>\n",
       "</div>"
      ],
      "text/plain": [
       "   Unnamed: 0             tweet_id  \\\n",
       "0           0  1370151453805871104   \n",
       "1           1  1396246713044652032   \n",
       "2           2  1397335585459560449   \n",
       "3           3  1375959601900777474   \n",
       "4           4  1347685399552880641   \n",
       "\n",
       "                                     tweet_full_text  finlabel  \n",
       "0  おはようございます☀\\n\\n休職382日目。昨日はたくさんのリプありがとうございました😭✨こ...         1  \n",
       "1  就活生のためのグループディスカッション対策まとめ(40176view)｜ https://t...         4  \n",
       "2  【登録してくべき就活サイト】\\n就職活動において、情報量が大きな武器になります。 以下のサイ...         4  \n",
       "3  [就活のお悩みを記入してね] #宇賀なつみ アナに就活相談しよう！抽選で8名様に宇賀アナへの...         3  \n",
       "4  ESは就活におけるあなたの名刺代わりのようなもの、\\n面接でもベースになるのはES、甘く見て...         4  "
      ]
     },
     "execution_count": 22,
     "metadata": {},
     "output_type": "execute_result"
    }
   ],
   "source": [
    "df = pd.read_csv('../Data/contain.csv')\n",
    "print(len(df))\n",
    "df.head()"
   ]
  },
  {
   "cell_type": "code",
   "execution_count": 23,
   "metadata": {},
   "outputs": [],
   "source": [
    "tweets_list = list(df['tweet_full_text'])\n",
    "finlabel = list(df['finlabel'])"
   ]
  },
  {
   "cell_type": "code",
   "execution_count": 14,
   "metadata": {},
   "outputs": [],
   "source": [
    "one_tweets = []\n",
    "two_tweets = []\n",
    "three_tweets = []\n",
    "four_tweets = []\n",
    "five_tweets = []\n",
    "\n",
    "for idx, label in enumerate(finlabel):\n",
    "    if label == int(1):\n",
    "        one_tweets.append(tweets_list[idx])\n",
    "    elif label == int(2):\n",
    "        two_tweets.append(tweets_list[idx])\n",
    "    elif label == int(3):\n",
    "        three_tweets.append(tweets_list[idx])\n",
    "    elif label == int(4):\n",
    "        four_tweets.append(tweets_list[idx])\n",
    "    else:\n",
    "        five_tweets.append(tweets_list[idx])"
   ]
  },
  {
   "cell_type": "code",
   "execution_count": 15,
   "metadata": {},
   "outputs": [
    {
     "name": "stdout",
     "output_type": "stream",
     "text": [
      "label1 : 2790\n",
      "label2 : 2053\n",
      "label3 : 1949\n",
      "label4 : 2521\n",
      "label5 : 687\n"
     ]
    }
   ],
   "source": [
    "print(f'label1 : {len(one_tweets)}')\n",
    "print(f'label2 : {len(two_tweets)}')\n",
    "print(f'label3 : {len(three_tweets)}')\n",
    "print(f'label4 : {len(four_tweets)}')\n",
    "print(f'label5 : {len(five_tweets)}')"
   ]
  },
  {
   "cell_type": "code",
   "execution_count": 16,
   "metadata": {},
   "outputs": [
    {
     "name": "stdout",
     "output_type": "stream",
     "text": [
      "label1 : 782 / 2790    rate:28.02867383512545\n",
      "label2 : 565 / 2053   rate:27.52070141256697\n",
      "label3 : 339 / 1949   rate:17.393535146228835\n",
      "label4 : 342 / 2521   rate:13.566045220150732\n",
      "label5 : 232 / 687   rate:33.770014556040756\n"
     ]
    }
   ],
   "source": [
    "import count\n",
    "\n",
    "cnt = count.Count()\n",
    "\n",
    "user_mention_cnt1, user_mention_list1 = cnt.user_mention(one_tweets)\n",
    "user_mention_cnt2, user_mention_list2 = cnt.user_mention(two_tweets)\n",
    "user_mention_cnt3, user_mention_list3 = cnt.user_mention(three_tweets)\n",
    "user_mention_cnt4, user_mention_list4 = cnt.user_mention(four_tweets)\n",
    "user_mention_cnt5, user_mention_list5 = cnt.user_mention(five_tweets)\n",
    "\n",
    "print(f'label1 : {user_mention_cnt1} / {len(one_tweets)}    rate:{user_mention_cnt1/len(one_tweets)*100}')\n",
    "print(f'label2 : {user_mention_cnt2} / {len(two_tweets)}   rate:{user_mention_cnt2/len(two_tweets)*100}')\n",
    "print(f'label3 : {user_mention_cnt3} / {len(three_tweets)}   rate:{user_mention_cnt3/len(three_tweets)*100}')\n",
    "print(f'label4 : {user_mention_cnt4} / {len(four_tweets)}   rate:{user_mention_cnt4/len(four_tweets)*100}')\n",
    "print(f'label5 : {user_mention_cnt5} / {len(five_tweets)}   rate:{user_mention_cnt5/len(five_tweets)*100}')"
   ]
  },
  {
   "cell_type": "code",
   "execution_count": 17,
   "metadata": {},
   "outputs": [
    {
     "name": "stdout",
     "output_type": "stream",
     "text": [
      "label1 : 586 / 2790    rate:21.003584229390682\n",
      "label2 : 696 / 2053   rate:33.90160740379932\n",
      "label3 : 1522 / 1949   rate:78.09132888660851\n",
      "label4 : 1061 / 2521   rate:42.08647362157874\n",
      "label5 : 316 / 687   rate:45.99708879184862\n"
     ]
    }
   ],
   "source": [
    "url_cnt1, url_list1 = cnt.url(one_tweets)\n",
    "url_cnt2, url_list2 = cnt.url(two_tweets)\n",
    "url_cnt3, url_list3 = cnt.url(three_tweets)\n",
    "url_cnt4, url_list4 = cnt.url(four_tweets)\n",
    "url_cnt5, url_list5 = cnt.url(five_tweets)\n",
    "\n",
    "print(f'label1 : {url_cnt1} / {len(one_tweets)}    rate:{url_cnt1/len(one_tweets)*100}')\n",
    "print(f'label2 : {url_cnt2} / {len(two_tweets)}   rate:{url_cnt2/len(two_tweets)*100}')\n",
    "print(f'label3 : {url_cnt3} / {len(three_tweets)}   rate:{url_cnt3/len(three_tweets)*100}')\n",
    "print(f'label4 : {url_cnt4} / {len(four_tweets)}   rate:{url_cnt4/len(four_tweets)*100}')\n",
    "print(f'label5 : {url_cnt5} / {len(five_tweets)}   rate:{url_cnt5/len(five_tweets)*100}')"
   ]
  },
  {
   "cell_type": "code",
   "execution_count": 10,
   "metadata": {},
   "outputs": [
    {
     "ename": "KeyboardInterrupt",
     "evalue": "",
     "output_type": "error",
     "traceback": [
      "\u001b[0;31m---------------------------------------------------------------------------\u001b[0m",
      "\u001b[0;31mKeyboardInterrupt\u001b[0m                         Traceback (most recent call last)",
      "\u001b[0;32m<ipython-input-10-74260580a8db>\u001b[0m in \u001b[0;36m<module>\u001b[0;34m\u001b[0m\n\u001b[1;32m     22\u001b[0m \u001b[0;34m\u001b[0m\u001b[0m\n\u001b[1;32m     23\u001b[0m \u001b[0;31m# emoji\u001b[0m\u001b[0;34m\u001b[0m\u001b[0;34m\u001b[0m\u001b[0;34m\u001b[0m\u001b[0m\n\u001b[0;32m---> 24\u001b[0;31m \u001b[0memojis_cnt\u001b[0m\u001b[0;34m,\u001b[0m \u001b[0memojis_list\u001b[0m \u001b[0;34m=\u001b[0m \u001b[0mcnt\u001b[0m\u001b[0;34m.\u001b[0m\u001b[0memojis\u001b[0m\u001b[0;34m(\u001b[0m\u001b[0mtweets_list\u001b[0m\u001b[0;34m)\u001b[0m\u001b[0;34m\u001b[0m\u001b[0;34m\u001b[0m\u001b[0m\n\u001b[0m\u001b[1;32m     25\u001b[0m \u001b[0;34m\u001b[0m\u001b[0m\n\u001b[1;32m     26\u001b[0m \u001b[0;31m# covid19\u001b[0m\u001b[0;34m\u001b[0m\u001b[0;34m\u001b[0m\u001b[0;34m\u001b[0m\u001b[0m\n",
      "\u001b[0;32m~/Desktop/RESEARCH-jobhunting-datasets/analysis/count.py\u001b[0m in \u001b[0;36memojis\u001b[0;34m(self, tweets_list)\u001b[0m\n\u001b[1;32m    144\u001b[0m         \u001b[0;32mfor\u001b[0m \u001b[0mtweet\u001b[0m \u001b[0;32min\u001b[0m \u001b[0mtweets_list\u001b[0m\u001b[0;34m:\u001b[0m\u001b[0;34m\u001b[0m\u001b[0;34m\u001b[0m\u001b[0m\n\u001b[1;32m    145\u001b[0m             \u001b[0;32mfor\u001b[0m \u001b[0mstring\u001b[0m \u001b[0;32min\u001b[0m \u001b[0mtweet\u001b[0m\u001b[0;34m:\u001b[0m\u001b[0;34m\u001b[0m\u001b[0;34m\u001b[0m\u001b[0m\n\u001b[0;32m--> 146\u001b[0;31m                 \u001b[0;32mif\u001b[0m \u001b[0mstring\u001b[0m \u001b[0;32min\u001b[0m \u001b[0mself\u001b[0m\u001b[0;34m.\u001b[0m\u001b[0mall_emojis\u001b[0m\u001b[0;34m:\u001b[0m\u001b[0;34m\u001b[0m\u001b[0;34m\u001b[0m\u001b[0m\n\u001b[0m\u001b[1;32m    147\u001b[0m                     \u001b[0memojis_list\u001b[0m\u001b[0;34m.\u001b[0m\u001b[0mappend\u001b[0m\u001b[0;34m(\u001b[0m\u001b[0mtweet\u001b[0m\u001b[0;34m)\u001b[0m\u001b[0;34m\u001b[0m\u001b[0;34m\u001b[0m\u001b[0m\n\u001b[1;32m    148\u001b[0m                     \u001b[0;32mbreak\u001b[0m\u001b[0;34m\u001b[0m\u001b[0;34m\u001b[0m\u001b[0m\n",
      "\u001b[0;31mKeyboardInterrupt\u001b[0m: "
     ]
    }
   ],
   "source": [
    "import count\n",
    "\n",
    "cnt = count.Count()\n",
    "\n",
    "# user mention\n",
    "user_mention_cnt, user_mention_list = cnt.user_mention(tweets_list)\n",
    "\n",
    "# url\n",
    "url_cnt, url_list = cnt.url(tweets_list)\n",
    "\n",
    "# hashtag\n",
    "hashtag_cnt, hashtag_list = cnt.hashtag(tweets_list)\n",
    "\n",
    "# www\n",
    "w_cnt, w_list = cnt.www(tweets_list)\n",
    "\n",
    "# not_single\n",
    "not_single_cnt, not_single_list = cnt.not_single(tweets_list)\n",
    "\n",
    "# mixed tweet\n",
    "contained_cnt, contained_list = cnt.mixed_tweet(tweets_list)\n",
    "\n",
    "# emoji\n",
    "# emojis_cnt, emojis_list = cnt.emojis(tweets_list)\n"
   ]
  },
  {
   "cell_type": "code",
   "execution_count": 11,
   "metadata": {},
   "outputs": [
    {
     "name": "stdout",
     "output_type": "stream",
     "text": [
      "2237\n",
      "4181\n",
      "2226\n",
      "960\n",
      "7443\n",
      "7509\n"
     ]
    },
    {
     "ename": "NameError",
     "evalue": "name 'emojis_cnt' is not defined",
     "output_type": "error",
     "traceback": [
      "\u001b[0;31m---------------------------------------------------------------------------\u001b[0m",
      "\u001b[0;31mNameError\u001b[0m                                 Traceback (most recent call last)",
      "\u001b[0;32m<ipython-input-11-7815c2c8166c>\u001b[0m in \u001b[0;36m<module>\u001b[0;34m\u001b[0m\n\u001b[1;32m      5\u001b[0m \u001b[0mprint\u001b[0m\u001b[0;34m(\u001b[0m\u001b[0mnot_single_cnt\u001b[0m\u001b[0;34m)\u001b[0m\u001b[0;34m\u001b[0m\u001b[0;34m\u001b[0m\u001b[0m\n\u001b[1;32m      6\u001b[0m \u001b[0mprint\u001b[0m\u001b[0;34m(\u001b[0m\u001b[0mcontained_cnt\u001b[0m\u001b[0;34m)\u001b[0m\u001b[0;34m\u001b[0m\u001b[0;34m\u001b[0m\u001b[0m\n\u001b[0;32m----> 7\u001b[0;31m \u001b[0mprint\u001b[0m\u001b[0;34m(\u001b[0m\u001b[0memojis_cnt\u001b[0m\u001b[0;34m)\u001b[0m\u001b[0;34m\u001b[0m\u001b[0;34m\u001b[0m\u001b[0m\n\u001b[0m",
      "\u001b[0;31mNameError\u001b[0m: name 'emojis_cnt' is not defined"
     ]
    }
   ],
   "source": [
    "print(user_mention_cnt)\n",
    "print(url_cnt)\n",
    "print(hashtag_cnt)\n",
    "print(w_cnt)\n",
    "print(not_single_cnt)\n",
    "print(contained_cnt)\n",
    "print(emojis_cnt)"
   ]
  },
  {
   "cell_type": "code",
   "execution_count": null,
   "metadata": {},
   "outputs": [],
   "source": [
    "x = ['User Mention', 'emoji', 'URL', 'Hashtag', 'alphabet\\n(removed \\n #----  )' ]\n",
    "y = [user_mention_cnt, emojis_cnt, url_cnt, hashtag_cnt, contained_cnt]\n",
    "\n",
    "figure = sns.barplot(x, y).get_figure()"
   ]
  }
 ],
 "metadata": {
  "kernelspec": {
   "display_name": "Python 3",
   "language": "python",
   "name": "python3"
  },
  "language_info": {
   "codemirror_mode": {
    "name": "ipython",
    "version": 3
   },
   "file_extension": ".py",
   "mimetype": "text/x-python",
   "name": "python",
   "nbconvert_exporter": "python",
   "pygments_lexer": "ipython3",
   "version": "3.8.5"
  }
 },
 "nbformat": 4,
 "nbformat_minor": 4
}
