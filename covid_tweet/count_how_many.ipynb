{
 "cells": [
  {
   "cell_type": "code",
   "execution_count": 1,
   "id": "f834f966-9248-4185-85c2-3c50f6facfb0",
   "metadata": {},
   "outputs": [],
   "source": [
    "%load_ext autoreload\n",
    "%autoreload 2"
   ]
  },
  {
   "cell_type": "code",
   "execution_count": 2,
   "id": "096f3945-f17d-4b17-99fe-f6d318e79ab7",
   "metadata": {},
   "outputs": [],
   "source": [
    "import sys\n",
    "sys.path.append('..')"
   ]
  },
  {
   "cell_type": "code",
   "execution_count": 3,
   "id": "3ce58a88-8d3f-40f0-b786-bb3816bb1aa1",
   "metadata": {},
   "outputs": [],
   "source": [
    "from PY_tweet.lists_file import *\n",
    "\n",
    "tweets_list = loadJoblib('DATA_all_texts/only_4labels_textdata.joblib')\n"
   ]
  },
  {
   "cell_type": "code",
   "execution_count": 16,
   "id": "a329b3ae-45c4-49ef-8908-db9e208bf159",
   "metadata": {},
   "outputs": [
    {
     "data": {
      "text/plain": [
       "['更新：WHOは新型コロナウイルスの正式名称を「COVID-19」とすると発表しました\\nhttps://t.co/zFQKGGXpse',\n",
       " 'これって英語圏の人は見間違えないのかな？\\n\\n#GODIVA #COVID19\\n\\n新型コロナウイルスの名称「COVID-19」をゴディバと見間違えるが続出 https://t.co/z5CxZFpQmQ',\n",
       " '#新型コロナ ウイルス感染症の拡大防止に係る #災害派遣  \\n要員として航空機動衛生隊の隊員１名がクルーズ船「ダイヤモンドプリンセス号」医療支援のため小牧基地を出発しました。\\n#COVID19 https://t.co/X4tEvmR1im',\n",
       " '未曾有の事態の中、中国政府は言論の自由を奪っています\\n\\n記事では、中国国内の実態の取材に尽力していた記者が拘束されたことを報道しています\\n\\n中国国民も、政府に対して不信感を募らせています🇨🇳\\n\\n政府による人災とならないことを祈りま… https://t.co/56QJemwK7h',\n",
       " '新しいコロナウィルスの名称\\nCOVID-19とWHO命名。クールで恐ろしい名前やな\\n#COVID19 #新型コロナウィルス #やばい病気',\n",
       " '☆新型コロナウィルス相談窓口（各都道府県）\\n一応窓口は、ありますが、まず、風邪でしょうといわれます。⇒理由：国内で一人でも感染者が出たらパニックになるから?（封じ込められてないことがばれるから？）#nCoV #COVID_19\\u3000https://t.co/PMB6Jb5wip',\n",
       " '新型コロナウイルスCOVID-19に罹患した妊婦は，妊娠していない成人と臨床的特徴は同様であり，出産および新生児に特に問題なし．羊水，臍帯血からもウイルスは検出されなかった．9症例報告．（Lancet 2020, Feb 12）\\nhttps://t.co/y2b67xsOzH',\n",
       " 'いっふー☀\\nさくらいふちゃんだよ🌸\\n＼#手洗い で手首も洗ってる❓／\\n\\n手首にも意外とウイルスやばい菌がついているよΣ（・□・；）\\n洗い残しのないように、ちゃんと洗おうね！\\n\\n#新型コロナウイルス  #COVID19… https://t.co/oFnSmC28yN',\n",
       " '湖北省\\n\\n感染爆発か\\n\\n１日で\\n感染者１万４千人増加\\n\\n死者も２００人超増える\\n\\n#covid19\\n新型コロナの流行の終息時期\\u3000WHO「見通せない」 https://t.co/zyXXQfofcz',\n",
       " '【中央日報】韓国人は新型肺炎の潜在保菌者? オランダ航空の「人種差別」が俎上に\\n\\nオランダ航空会社であるKLM航空が人種差別の論議に巻き込まれた。「COVID-19(新型コロナウイルス)」に関連して韓国人に差別的な措置を取ったとい… https://t.co/DtMl9eIslb',\n",
       " '新型コロナウイルス(2019-nCoV, COVID-19)の重症管理に役立つコクランエビデンスを集めた特集号の日本語訳が完了しました。\\nそれぞれのコクランレビューのリンクは訳のあるものについては日本語表記されるリンクにしています… https://t.co/SDPE1z7vbk',\n",
       " '検疫官も感染してしまうとなると、やはり乗客と接する乗員は全数検査するべきだと思う。\\n\\n #新型肺炎 #新型コロナウィルス #COVID19 #クルーズ船 #ひるおび',\n",
       " '新型コロナウイルス（COVID－19）治療の最前線に立つ、大曲貴夫先生にお話を伺いました。「国内では一人も死なせない」と連日奮闘なさって、体重が2キロ落ちたとのこと。院内感染管理の重要性や最新治療、一般の人ができることも話して頂き… https://t.co/phM8oe5m0l',\n",
       " 'クルーズ船「ダイヤモンドプリンス号」の乗客輸送支援として #小牧基地 #第１輸送航空隊 管理隊員４名と大型バス２台が出発しました。\\n#新型コロナウイルス \\n#災害派遣 \\n#covid19 https://t.co/J2Nc6M33wq',\n",
       " '急に新型コロナウイルスCOVID-19患者数が1日で14840例（うち12000例近くは武漢）急増しましたが、これはこれまでCTやPCRで陽性とでなかったけど疑わしい症例を臨床診断として患者数に含めたからのようです。PCRの検査感… https://t.co/Ni07cUXX8G',\n",
       " '都内のタクシー運転手が感染。遅かれ早かれ来ると判っていた事だが…。情報の確実さの責任に束縛された専門家の発信が後手に回った結果、世の中全体の、そして業界の動きが遅きに失した感がある。\\n#NHK #首都圏ネットワーク #新型コロナウイルス #COVID19 #感染症',\n",
       " '【速報】東京都内のタクシー運転手の男性、新型コロナウイルスに感染確認\\n#COVID19 #新型肺炎 #新型コロナウイルス',\n",
       " '中国では看護師はウィルスが髪につかないようにマルコメちゃんに。\\n髪の長い女性は切ったりまとめた方が良いかもしれない。\\n\\n#coronavirus\\n#コロナウィルス\\n#新型コロナウィルス\\n#COVID2019 https://t.co/VcP0WxqVdi',\n",
       " '#新型コロナウイルス\\u3000COVID-19\\n\\n和歌山県の感染者は\\u3000医師とのことです。\\n\\n医師も命懸けです！\\n\\n正しい #感染対策 をお願いします。\\n\\nhttps://t.co/GCAGSobbsj',\n",
       " '日本政府､緊急ウイルス対策に総額153億円\\u3000ワクチン開発やマスク増産､簡易検査キット準備へ https://t.co/HvLjoIhP19 #COVID19 #新型コロナウイルス #新型肺炎 #コロナウイルス #感染者 #WHO #ワクチン #簡易検査キット #マスク #予備費']"
      ]
     },
     "execution_count": 16,
     "metadata": {},
     "output_type": "execute_result"
    }
   ],
   "source": [
    "tweets_list[:20]"
   ]
  },
  {
   "cell_type": "code",
   "execution_count": 4,
   "id": "a9a62a5c-543a-441b-a052-b1c5ce3951a3",
   "metadata": {},
   "outputs": [
    {
     "name": "stdout",
     "output_type": "stream",
     "text": [
      "Requirement already satisfied: janome in /home/takakiyuto/anaconda3/lib/python3.8/site-packages (0.4.1)\n"
     ]
    }
   ],
   "source": [
    "!pip install janome"
   ]
  },
  {
   "cell_type": "code",
   "execution_count": 5,
   "id": "b8db163b-85a8-42eb-82a8-861d0764b3b1",
   "metadata": {},
   "outputs": [],
   "source": [
    "from janome.tokenizer import Tokenizer\n",
    "from janome.analyzer import Analyzer\n",
    "from janome.tokenfilter import POSStopFilter\n",
    "\n",
    "tokenizer = Tokenizer()\n",
    "token_filters = [POSStopFilter(['記号','助詞','助動詞','動詞'])]\n",
    "a = Analyzer(tokenizer=tokenizer, token_filters=token_filters)"
   ]
  },
  {
   "cell_type": "code",
   "execution_count": 6,
   "id": "aeee144d-687c-431a-acdb-24b73c0d8b87",
   "metadata": {},
   "outputs": [],
   "source": [
    "test_tokens = a.analyze(tweets_list)"
   ]
  },
  {
   "cell_type": "code",
   "execution_count": 7,
   "id": "eda1ac3c-9892-477e-b6d4-d1ff438c6333",
   "metadata": {},
   "outputs": [],
   "source": [
    "wakati = {}\n",
    "for idx, tweet in enumerate(tweets_list):\n",
    "    tokens = a.analyze(tweet)\n",
    "    wakati[idx] = ' '.join([t.surface for t in tokens])"
   ]
  },
  {
   "cell_type": "code",
   "execution_count": 8,
   "id": "5b5ef4e4-af9b-418a-815c-a54825249d03",
   "metadata": {},
   "outputs": [],
   "source": [
    "from sklearn.feature_extraction.text import CountVectorizer\n",
    "import random\n",
    "vectorizer = CountVectorizer()"
   ]
  },
  {
   "cell_type": "code",
   "execution_count": 9,
   "id": "7e36adf9-47f7-4617-922a-1a261fc744b6",
   "metadata": {},
   "outputs": [],
   "source": [
    "X = vectorizer.fit_transform(wakati[i] for i in wakati.keys())\n",
    "bows = {}\n",
    "for i, bow in enumerate(X.toarray()):\n",
    "    bows[i] = bow"
   ]
  },
  {
   "cell_type": "code",
   "execution_count": 10,
   "id": "14dd77c1-acb1-4712-a25a-9d91ddf5ce53",
   "metadata": {},
   "outputs": [],
   "source": [
    "WORDS = vectorizer.get_feature_names()\n",
    "# print(WORDS)"
   ]
  },
  {
   "cell_type": "code",
   "execution_count": 11,
   "id": "6be0488a-0b43-4fe0-97bf-bfc3dc9c221d",
   "metadata": {},
   "outputs": [],
   "source": [
    "# import numpy as np\n",
    "\n",
    "# count = []\n",
    "# for _ in range(len(bows[0])):\n",
    "#     count.append(0)\n",
    "\n",
    "# for i in range(len(bows)):\n",
    "#     for idx, cnt in enumerate(bows[i]):\n",
    "#         count[idx] += cnt\n",
    "\n",
    "# count_np = np.array(count)\n",
    "# count_np_index = np.argsort(count_np)[::-1]"
   ]
  },
  {
   "cell_type": "code",
   "execution_count": 12,
   "id": "6ed3923f-d2d5-4b08-af28-e654bc179bcf",
   "metadata": {},
   "outputs": [],
   "source": [
    "import numpy as np\n",
    "\n",
    "count_np = np.load('count_np.npy')\n",
    "count_np_index = np.load('count_np_index.npy')"
   ]
  },
  {
   "cell_type": "code",
   "execution_count": 13,
   "id": "d5660dbd-6405-4883-adf3-283c552ba0e5",
   "metadata": {},
   "outputs": [],
   "source": [
    "top100 = []\n",
    "\n",
    "for i in count_np_index[:100]:\n",
    "    top100.append([WORDS[i], count_np[i]])"
   ]
  },
  {
   "cell_type": "code",
   "execution_count": 14,
   "id": "f9cc7ae3-ddef-4fcc-b575-974b3698382a",
   "metadata": {},
   "outputs": [],
   "source": [
    "# import matplotlib.pyplot as plt\n",
    "# import seaborn as sns\n",
    "# sns.set()\n",
    "\n",
    "# sns.distplot(count_np[count_np_index[:100]])\n",
    "# plt.show()"
   ]
  },
  {
   "cell_type": "code",
   "execution_count": 15,
   "id": "f5ed07ef-025e-4d2f-bd0a-26db737e48f0",
   "metadata": {},
   "outputs": [
    {
     "data": {
      "text/plain": [
       "[['コロナ', 39757],\n",
       " ['co', 22782],\n",
       " ['https', 22736],\n",
       " ['新型', 11834],\n",
       " ['ウイルス', 9695],\n",
       " ['感染', 7922],\n",
       " ['こと', 3840],\n",
       " ['対策', 3332],\n",
       " ['マスク', 2808],\n",
       " ['日本', 2546],\n",
       " ['19', 2382],\n",
       " ['影響', 2273],\n",
       " ['さん', 2230],\n",
       " ['covid', 2185],\n",
       " ['ニュース', 2110],\n",
       " ['ない', 1999],\n",
       " ['よう', 1965],\n",
       " ['そう', 1878],\n",
       " ['この', 1869],\n",
       " ['ウィルス', 1776],\n",
       " ['東京', 1763],\n",
       " ['中国', 1742],\n",
       " ['いい', 1608],\n",
       " ['今日', 1593],\n",
       " ['これ', 1433],\n",
       " ['自粛', 1353],\n",
       " ['拡大', 1224],\n",
       " ['どう', 1169],\n",
       " ['ため', 1169],\n",
       " ['世界', 1162],\n",
       " ['肺炎', 1151],\n",
       " ['緊急', 1135],\n",
       " ['医療', 1133],\n",
       " ['事態', 1081],\n",
       " ['経済', 1074],\n",
       " ['10', 1059],\n",
       " ['情報', 1046],\n",
       " ['仕事', 1025],\n",
       " ['検査', 1015],\n",
       " ['時間', 1012],\n",
       " ['確認', 983],\n",
       " ['宣言', 981],\n",
       " ['みんな', 954],\n",
       " ['支援', 951],\n",
       " ['もう', 949],\n",
       " ['対応', 940],\n",
       " ['解除', 935],\n",
       " ['質問', 922],\n",
       " ['自分', 911],\n",
       " ['2020', 876],\n",
       " ['政府', 874],\n",
       " ['せい', 860],\n",
       " ['生活', 860],\n",
       " ['オンライン', 859],\n",
       " ['その', 841],\n",
       " ['それ', 830],\n",
       " ['中止', 813],\n",
       " ['また', 811],\n",
       " ['再開', 798],\n",
       " ['安倍', 765],\n",
       " ['まだ', 757],\n",
       " ['新た', 752],\n",
       " ['みたい', 743],\n",
       " ['怖い', 721],\n",
       " ['もの', 716],\n",
       " ['武漢', 714],\n",
       " ['状況', 708],\n",
       " ['早く', 687],\n",
       " ['病院', 685],\n",
       " ['関係', 677],\n",
       " ['こんな', 671],\n",
       " ['yahoo', 642],\n",
       " ['営業', 639],\n",
       " ['nhk', 638],\n",
       " ['給付', 633],\n",
       " ['学校', 633],\n",
       " ['会社', 619],\n",
       " ['問題', 616],\n",
       " ['発表', 610],\n",
       " ['20', 609],\n",
       " ['国民', 606],\n",
       " ['うち', 600],\n",
       " ['予防', 595],\n",
       " ['良い', 594],\n",
       " ['死者', 587],\n",
       " ['収束', 586],\n",
       " ['たち', 578],\n",
       " ['可能', 576],\n",
       " ['大阪', 574],\n",
       " ['患者', 574],\n",
       " ['防止', 566],\n",
       " ['必要', 563],\n",
       " ['以上', 557],\n",
       " ['終息', 546],\n",
       " ['死亡', 541],\n",
       " ['外出', 535],\n",
       " ['30', 534],\n",
       " ['今年', 533],\n",
       " ['お願い', 531],\n",
       " ['多い', 515]]"
      ]
     },
     "execution_count": 15,
     "metadata": {},
     "output_type": "execute_result"
    }
   ],
   "source": [
    "top100"
   ]
  },
  {
   "cell_type": "code",
   "execution_count": null,
   "id": "28cd9ad2-7735-4c9b-89f3-60ab5b5d23a1",
   "metadata": {},
   "outputs": [],
   "source": []
  }
 ],
 "metadata": {
  "kernelspec": {
   "display_name": "Python 3",
   "language": "python",
   "name": "python3"
  },
  "language_info": {
   "codemirror_mode": {
    "name": "ipython",
    "version": 3
   },
   "file_extension": ".py",
   "mimetype": "text/x-python",
   "name": "python",
   "nbconvert_exporter": "python",
   "pygments_lexer": "ipython3",
   "version": "3.8.8"
  }
 },
 "nbformat": 4,
 "nbformat_minor": 5
}
