{
 "cells": [
  {
   "cell_type": "code",
   "execution_count": 20,
   "id": "9ab836b5-7eb9-404a-a5c5-61791511eb5f",
   "metadata": {},
   "outputs": [
    {
     "name": "stdout",
     "output_type": "stream",
     "text": [
      "The autoreload extension is already loaded. To reload it, use:\n",
      "  %reload_ext autoreload\n"
     ]
    }
   ],
   "source": [
    "%load_ext autoreload\n",
    "%autoreload 2"
   ]
  },
  {
   "cell_type": "code",
   "execution_count": 9,
   "id": "84dda89f-2491-432e-b53b-78a3b8059098",
   "metadata": {},
   "outputs": [],
   "source": [
    "import numpy as np\n",
    "import pandas as pd\n",
    "import matplotlib.pyplot as plt\n",
    "import seaborn as sns\n",
    "\n",
    "from lists_file import dumpJoblib, loadJoblib\n",
    "\n",
    "\n",
    "%matplotlib inline\n",
    "sns.set()"
   ]
  },
  {
   "cell_type": "code",
   "execution_count": 46,
   "id": "8d0f5241-a4dd-4126-a257-020d4cbff5a9",
   "metadata": {},
   "outputs": [
    {
     "data": {
      "text/plain": [
       "53639"
      ]
     },
     "execution_count": 46,
     "metadata": {},
     "output_type": "execute_result"
    }
   ],
   "source": [
    "# read COVID-19 datasets\n",
    "df = pd.read_csv('covid19.csv')\n",
    "# df.head()\n",
    "len(df)"
   ]
  },
  {
   "cell_type": "code",
   "execution_count": 57,
   "id": "82ddf011-ec37-425e-8032-8010627ed840",
   "metadata": {},
   "outputs": [],
   "source": [
    "import tweets\n",
    "\n",
    "MakeTweet = tweets.MakeTweet()\n",
    "MakeTweet.make_all_tweets_list()\n",
    "MakeTweet.make_real_unique_tweets_list()"
   ]
  },
  {
   "cell_type": "code",
   "execution_count": 58,
   "id": "2f53be06-da82-469d-b277-411fcab237b4",
   "metadata": {},
   "outputs": [
    {
     "name": "stdout",
     "output_type": "stream",
     "text": [
      "全データの件数:53639\n",
      "現存するデータの数：39807\n",
      "重複を取り除いた件数：37543\n",
      "----------------------------------------\n",
      "63: 　　　　一般事実　 12148個\n",
      "64: 　　　　個人事実 　4829個\n",
      "65: 　　　意見・感想 　31819個\n",
      "66: 　　　　判定困難 　62個\n",
      "67: 　　　　関係なし 　4754個\n",
      "68: 事実だが判定困難 　27個\n"
     ]
    }
   ],
   "source": [
    "GetTweet = tweets.GetTweet()\n",
    "tweet_id_list, assessment_list = GetTweet.get_all_tweets_list()"
   ]
  },
  {
   "cell_type": "markdown",
   "id": "d9b33ded-95fe-4cc9-968c-6d5a25609840",
   "metadata": {},
   "source": [
    "## Validate the accuracy of tweets.py"
   ]
  },
  {
   "cell_type": "code",
   "execution_count": 59,
   "id": "0ce78c2d-49c3-4999-aebf-fbddb8c69249",
   "metadata": {},
   "outputs": [
    {
     "name": "stdout",
     "output_type": "stream",
     "text": [
      "length:883\t\tnow:00882\n",
      "length:1782\t\tnow:01781\n",
      "length:2681\t\tnow:02680\n",
      "length:3579\t\tnow:03578\n",
      "length:4477\t\tnow:04476\n",
      "length:5375\t\tnow:05374\n",
      "length:6272\t\tnow:06271\n",
      "length:7170\t\tnow:07169\n",
      "length:8068\t\tnow:08067\n",
      "length:8966\t\tnow:08965\n",
      "length:9864\t\tnow:09863\n",
      "length:10762\t\tnow:10761\n",
      "length:11660\t\tnow:11659\n",
      "length:12558\t\tnow:12557\n",
      "length:13456\t\tnow:13455\n",
      "length:14354\t\tnow:14353\n",
      "length:15252\t\tnow:15251\n",
      "length:16150\t\tnow:16149\n",
      "length:17048\t\tnow:17047\n",
      "length:17946\t\tnow:17945\n",
      "length:18844\t\tnow:18843\n",
      "length:19742\t\tnow:19741\n",
      "length:20640\t\tnow:20639\n",
      "length:21538\t\tnow:21537\n",
      "length:22436\t\tnow:22435\n",
      "length:23334\t\tnow:23333\n",
      "length:24232\t\tnow:24231\n",
      "length:25130\t\tnow:25129\n",
      "length:26028\t\tnow:26027\n",
      "length:26926\t\tnow:26925\n",
      "length:27824\t\tnow:27823\n",
      "length:28722\t\tnow:28721\n",
      "length:29620\t\tnow:29619\n",
      "length:30518\t\tnow:30517\n",
      "length:31416\t\tnow:31415\n",
      "length:32314\t\tnow:32313\n",
      "length:33212\t\tnow:33211\n",
      "length:34110\t\tnow:34109\n",
      "length:35008\t\tnow:35007\n",
      "length:35906\t\tnow:35905\n",
      "length:36804\t\tnow:36803\n",
      "length:37702\t\tnow:37701\n",
      "length:38600\t\tnow:38599\n",
      "length:39498\t\tnow:39497\n",
      "length:40396\t\tnow:40395\n",
      "length:41294\t\tnow:41293\n",
      "length:42192\t\tnow:42191\n",
      "length:43090\t\tnow:43089\n",
      "length:43988\t\tnow:43987\n",
      "length:44886\t\tnow:44885\n",
      "length:45784\t\tnow:45783\n",
      "length:46682\t\tnow:46681\n",
      "length:47580\t\tnow:47579\n",
      "length:48478\t\tnow:48477\n",
      "length:49376\t\tnow:49375\n",
      "length:50274\t\tnow:50273\n",
      "length:51172\t\tnow:51171\n",
      "length:52070\t\tnow:52069\n",
      "length:52968\t\tnow:52967\n",
      "length:53639\t\tnow:53638\n"
     ]
    }
   ],
   "source": [
    "import os\n",
    "\n",
    "texts_data = []\n",
    "\n",
    "texts_file = sorted(os.listdir('texts_data'))\n",
    "\n",
    "for file_name in texts_file:\n",
    "    text_data = loadJoblib('texts_data/' + file_name)\n",
    "    texts_data += text_data\n",
    "    print(f'length:{len(texts_data)}\\t\\tnow:{file_name[-12:-7]}')"
   ]
  },
  {
   "cell_type": "code",
   "execution_count": 69,
   "id": "6b6cf94f-db6d-4607-8c5d-a2c6bc4d2457",
   "metadata": {},
   "outputs": [],
   "source": [
    "idx = list(loadJoblib('unique_textdata.joblib').keys())\n",
    "tweet_id = list(loadJoblib('unique_textdata.joblib').values())\n",
    "assessment_option_id = list(df.iloc[key]['assessment_option_id'])\n",
    "\n",
    "dumpJoblib('label_file.joblib',assessment_option_id)"
   ]
  },
  {
   "cell_type": "code",
   "execution_count": 78,
   "id": "30bf8330-7b60-4f45-8294-15993a48c432",
   "metadata": {},
   "outputs": [
    {
     "data": {
      "text/plain": [
       "152"
      ]
     },
     "execution_count": 78,
     "metadata": {},
     "output_type": "execute_result"
    }
   ],
   "source": [
    "tweets_list = list(loadJoblib('unique_textdata.joblib').values())\n",
    "\n",
    "max_length = 0\n",
    "\n",
    "for tweet in tweets_list:\n",
    "    if max_length < len(tweet):\n",
    "        max_length = len(tweet)\n",
    "        \n",
    "max_length"
   ]
  },
  {
   "cell_type": "code",
   "execution_count": null,
   "id": "0d34f770-30a2-4786-b8d4-92d3bec4790f",
   "metadata": {},
   "outputs": [],
   "source": []
  }
 ],
 "metadata": {
  "kernelspec": {
   "display_name": "Python 3",
   "language": "python",
   "name": "python3"
  },
  "language_info": {
   "codemirror_mode": {
    "name": "ipython",
    "version": 3
   },
   "file_extension": ".py",
   "mimetype": "text/x-python",
   "name": "python",
   "nbconvert_exporter": "python",
   "pygments_lexer": "ipython3",
   "version": "3.8.8"
  }
 },
 "nbformat": 4,
 "nbformat_minor": 5
}
