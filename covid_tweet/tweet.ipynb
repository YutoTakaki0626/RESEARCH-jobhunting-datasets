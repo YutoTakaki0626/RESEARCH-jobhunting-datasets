{
 "cells": [
  {
   "cell_type": "code",
   "execution_count": 48,
   "id": "77294140-2858-46cc-bee5-afba0c693152",
   "metadata": {},
   "outputs": [
    {
     "name": "stdout",
     "output_type": "stream",
     "text": [
      "The autoreload extension is already loaded. To reload it, use:\n",
      "  %reload_ext autoreload\n"
     ]
    }
   ],
   "source": [
    "%load_ext autoreload\n",
    "%autoreload 2"
   ]
  },
  {
   "cell_type": "code",
   "execution_count": 51,
   "id": "e501c310-5f52-48ff-a387-06fe0f7dcb1a",
   "metadata": {},
   "outputs": [],
   "source": [
    "from PY_tweet import tweets"
   ]
  },
  {
   "cell_type": "code",
   "execution_count": 52,
   "id": "24f86a09-f990-4f3d-85a7-902d5da98cfb",
   "metadata": {},
   "outputs": [],
   "source": [
    "make = tweets.MakeTweet()\n",
    "make.make_all()"
   ]
  },
  {
   "cell_type": "code",
   "execution_count": 53,
   "id": "8ee00f34-f812-41bd-a9fc-a56a342e4476",
   "metadata": {},
   "outputs": [
    {
     "name": "stdout",
     "output_type": "stream",
     "text": [
      "全データの件数:53639\n",
      "現存するデータの数：39807\n",
      "重複を取り除いた件数：37543\n",
      "----------------------------------------\n",
      "加工前\n",
      "63: 　　　　一般事実　 12148個\n",
      "64: 　　　　個人事実 　4829個\n",
      "65: 　　　意見・感想 　31819個\n",
      "66: 　　　　判定困難 　62個\n",
      "67: 　　　　関係なし 　4754個\n",
      "68: 事実だが判定困難 　27個\n",
      "----------------------------------------\n",
      "加工 \n",
      "(1)現存するデータのみにする\n",
      "(2) 重複データは除く\n",
      "(3)ラベル66,68は外す\n",
      "----------------------------------------\n",
      "加工後\n",
      "63: 　　　　一般事実　 9825個\n",
      "64: 　　　　個人事実 　2986個\n",
      "65: 　　　意見・感想 　21862個\n",
      "66: 　　　　判定困難 　0個\n",
      "67: 　　　　関係なし 　2841個\n",
      "68: 事実だが判定困難 　0個\n",
      "\n",
      "ツイートの最長の長さは152です\n"
     ]
    }
   ],
   "source": [
    "get = tweets.GetTweet()\n",
    "_ = get.get_all_tweets_list()\n",
    "get.get_length()"
   ]
  },
  {
   "cell_type": "code",
   "execution_count": null,
   "id": "5c7a4e16-695b-4118-8eb3-c9d9f75e3f1f",
   "metadata": {},
   "outputs": [],
   "source": []
  }
 ],
 "metadata": {
  "kernelspec": {
   "display_name": "Python 3",
   "language": "python",
   "name": "python3"
  },
  "language_info": {
   "codemirror_mode": {
    "name": "ipython",
    "version": 3
   },
   "file_extension": ".py",
   "mimetype": "text/x-python",
   "name": "python",
   "nbconvert_exporter": "python",
   "pygments_lexer": "ipython3",
   "version": "3.8.8"
  }
 },
 "nbformat": 4,
 "nbformat_minor": 5
}
