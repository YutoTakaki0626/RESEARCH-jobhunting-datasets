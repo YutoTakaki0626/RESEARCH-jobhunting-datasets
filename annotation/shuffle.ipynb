{
 "cells": [
  {
   "cell_type": "code",
   "execution_count": 1,
   "id": "90e81251-7a5a-415d-8f37-ad7e0322b9b5",
   "metadata": {},
   "outputs": [],
   "source": [
    "%load_ext autoreload\n",
    "%autoreload 2"
   ]
  },
  {
   "cell_type": "code",
   "execution_count": 2,
   "id": "c2bdc4de-5370-4370-afff-a6d26a759894",
   "metadata": {},
   "outputs": [],
   "source": [
    "import os\n",
    "import glob\n",
    "\n",
    "import pandas as pd\n",
    "\n",
    "from tweet.lists import *"
   ]
  },
  {
   "cell_type": "code",
   "execution_count": 3,
   "id": "acfa9636-9a3a-44db-b7aa-e3bddced4227",
   "metadata": {},
   "outputs": [],
   "source": [
    "current_dir = os.getcwd()\n",
    "month_folder = os.path.join(current_dir, 'data', '*')\n",
    "months = glob.glob(month_folder)\n",
    "months.sort()"
   ]
  },
  {
   "cell_type": "code",
   "execution_count": 4,
   "id": "67491aaf-fa07-4bca-a898-ad44bcc78d59",
   "metadata": {},
   "outputs": [],
   "source": [
    "tweets_df = []\n",
    "all_files_path = []\n",
    "\n",
    "for month in months:\n",
    "    file_path = os.path.join(month, '*.csv')\n",
    "    files_path = glob.glob(file_path)\n",
    "    all_files_path += files_path\n",
    "\n",
    "all_files_path.sort()"
   ]
  },
  {
   "cell_type": "code",
   "execution_count": 5,
   "id": "efe026da-4f9a-424d-b36b-8727152bdc7f",
   "metadata": {},
   "outputs": [],
   "source": [
    "df = pd.DataFrame()\n",
    "\n",
    "for file in all_files_path:\n",
    "    tmp = pd.read_csv(file)\n",
    "    df = pd.concat([df, tmp], ignore_index=True)\n"
   ]
  },
  {
   "cell_type": "code",
   "execution_count": 6,
   "id": "a56aaecd-8e27-4a1f-bd01-42abfd73070d",
   "metadata": {},
   "outputs": [],
   "source": [
    "df_shuffled=df.sample(frac=1).reset_index(drop=True)\n",
    "df_shuffled.rename(columns={'Unnamed: 0': 'ex_index'}, inplace=True)"
   ]
  },
  {
   "cell_type": "code",
   "execution_count": 7,
   "id": "607513d2-f69f-4693-9e7e-b373275872ae",
   "metadata": {},
   "outputs": [
    {
     "data": {
      "text/html": [
       "<div>\n",
       "<style scoped>\n",
       "    .dataframe tbody tr th:only-of-type {\n",
       "        vertical-align: middle;\n",
       "    }\n",
       "\n",
       "    .dataframe tbody tr th {\n",
       "        vertical-align: top;\n",
       "    }\n",
       "\n",
       "    .dataframe thead th {\n",
       "        text-align: right;\n",
       "    }\n",
       "</style>\n",
       "<table border=\"1\" class=\"dataframe\">\n",
       "  <thead>\n",
       "    <tr style=\"text-align: right;\">\n",
       "      <th></th>\n",
       "      <th>ex_index</th>\n",
       "      <th>tweet_id</th>\n",
       "      <th>tweet_full_text</th>\n",
       "      <th>tweet_favorite_count</th>\n",
       "      <th>tweet_created_at</th>\n",
       "    </tr>\n",
       "  </thead>\n",
       "  <tbody>\n",
       "    <tr>\n",
       "      <th>0</th>\n",
       "      <td>477</td>\n",
       "      <td>1370151453805871104</td>\n",
       "      <td>おはようございます☀\\n\\n休職382日目。昨日はたくさんのリプありがとうございました😭✨こ...</td>\n",
       "      <td>315</td>\n",
       "      <td>2021-03-12 08:15:37</td>\n",
       "    </tr>\n",
       "    <tr>\n",
       "      <th>1</th>\n",
       "      <td>318</td>\n",
       "      <td>1396246713044652032</td>\n",
       "      <td>就活生のためのグループディスカッション対策まとめ(40176view)｜ https://t...</td>\n",
       "      <td>0</td>\n",
       "      <td>2021-05-23 08:28:52</td>\n",
       "    </tr>\n",
       "    <tr>\n",
       "      <th>2</th>\n",
       "      <td>171</td>\n",
       "      <td>1397335585459560449</td>\n",
       "      <td>【登録してくべき就活サイト】\\n就職活動において、情報量が大きな武器になります。 以下のサイ...</td>\n",
       "      <td>0</td>\n",
       "      <td>2021-05-26 08:35:39</td>\n",
       "    </tr>\n",
       "    <tr>\n",
       "      <th>3</th>\n",
       "      <td>29</td>\n",
       "      <td>1375959601900777474</td>\n",
       "      <td>[就活のお悩みを記入してね] #宇賀なつみ アナに就活相談しよう！抽選で8名様に宇賀アナへの...</td>\n",
       "      <td>0</td>\n",
       "      <td>2021-03-28 08:55:07</td>\n",
       "    </tr>\n",
       "    <tr>\n",
       "      <th>4</th>\n",
       "      <td>190</td>\n",
       "      <td>1347685399552880641</td>\n",
       "      <td>ESは就活におけるあなたの名刺代わりのようなもの、\\n面接でもベースになるのはES、甘く見て...</td>\n",
       "      <td>2</td>\n",
       "      <td>2021-01-09 08:23:32</td>\n",
       "    </tr>\n",
       "    <tr>\n",
       "      <th>5</th>\n",
       "      <td>27</td>\n",
       "      <td>1405675630117613571</td>\n",
       "      <td>「世の人は何とも言わば言え、我が成す事は我のみぞ知る」坂本龍馬さんの言葉です。　自分が決めた...</td>\n",
       "      <td>0</td>\n",
       "      <td>2021-06-18 08:56:01</td>\n",
       "    </tr>\n",
       "    <tr>\n",
       "      <th>6</th>\n",
       "      <td>391</td>\n",
       "      <td>1387544872626831361</td>\n",
       "      <td>【離職率0.1%】ホワイト企業が多い新卒就職エージェント\\n\\n就活終わらない・決まらない・...</td>\n",
       "      <td>1</td>\n",
       "      <td>2021-04-29 08:10:51</td>\n",
       "    </tr>\n",
       "    <tr>\n",
       "      <th>7</th>\n",
       "      <td>227</td>\n",
       "      <td>1345147995226951680</td>\n",
       "      <td>RT @7Znv478Zu8TnSWj: ファミマの「お母さん食堂」の「お母さん」が女性蔑視...</td>\n",
       "      <td>0</td>\n",
       "      <td>2021-01-02 08:20:48</td>\n",
       "    </tr>\n",
       "    <tr>\n",
       "      <th>8</th>\n",
       "      <td>119</td>\n",
       "      <td>1380669656663400449</td>\n",
       "      <td>@umaria_________ うまりあ、久しぶり。お元気そうで何より。\\n\\n就活&amp;am...</td>\n",
       "      <td>0</td>\n",
       "      <td>2021-04-10 08:51:12</td>\n",
       "    </tr>\n",
       "    <tr>\n",
       "      <th>9</th>\n",
       "      <td>314</td>\n",
       "      <td>1348771389608611841</td>\n",
       "      <td>いやー、やっぱり継続って大事。\\n\\n〇〇業界入りたいって目指していたけど\\n9社不合格続き...</td>\n",
       "      <td>1</td>\n",
       "      <td>2021-01-12 08:18:52</td>\n",
       "    </tr>\n",
       "  </tbody>\n",
       "</table>\n",
       "</div>"
      ],
      "text/plain": [
       "   ex_index             tweet_id  \\\n",
       "0       477  1370151453805871104   \n",
       "1       318  1396246713044652032   \n",
       "2       171  1397335585459560449   \n",
       "3        29  1375959601900777474   \n",
       "4       190  1347685399552880641   \n",
       "5        27  1405675630117613571   \n",
       "6       391  1387544872626831361   \n",
       "7       227  1345147995226951680   \n",
       "8       119  1380669656663400449   \n",
       "9       314  1348771389608611841   \n",
       "\n",
       "                                     tweet_full_text  tweet_favorite_count  \\\n",
       "0  おはようございます☀\\n\\n休職382日目。昨日はたくさんのリプありがとうございました😭✨こ...                   315   \n",
       "1  就活生のためのグループディスカッション対策まとめ(40176view)｜ https://t...                     0   \n",
       "2  【登録してくべき就活サイト】\\n就職活動において、情報量が大きな武器になります。 以下のサイ...                     0   \n",
       "3  [就活のお悩みを記入してね] #宇賀なつみ アナに就活相談しよう！抽選で8名様に宇賀アナへの...                     0   \n",
       "4  ESは就活におけるあなたの名刺代わりのようなもの、\\n面接でもベースになるのはES、甘く見て...                     2   \n",
       "5  「世の人は何とも言わば言え、我が成す事は我のみぞ知る」坂本龍馬さんの言葉です。　自分が決めた...                     0   \n",
       "6  【離職率0.1%】ホワイト企業が多い新卒就職エージェント\\n\\n就活終わらない・決まらない・...                     1   \n",
       "7  RT @7Znv478Zu8TnSWj: ファミマの「お母さん食堂」の「お母さん」が女性蔑視...                     0   \n",
       "8  @umaria_________ うまりあ、久しぶり。お元気そうで何より。\\n\\n就活&am...                     0   \n",
       "9  いやー、やっぱり継続って大事。\\n\\n〇〇業界入りたいって目指していたけど\\n9社不合格続き...                     1   \n",
       "\n",
       "      tweet_created_at  \n",
       "0  2021-03-12 08:15:37  \n",
       "1  2021-05-23 08:28:52  \n",
       "2  2021-05-26 08:35:39  \n",
       "3  2021-03-28 08:55:07  \n",
       "4  2021-01-09 08:23:32  \n",
       "5  2021-06-18 08:56:01  \n",
       "6  2021-04-29 08:10:51  \n",
       "7  2021-01-02 08:20:48  \n",
       "8  2021-04-10 08:51:12  \n",
       "9  2021-01-12 08:18:52  "
      ]
     },
     "execution_count": 7,
     "metadata": {},
     "output_type": "execute_result"
    }
   ],
   "source": [
    "df_shuffled.head(10)"
   ]
  },
  {
   "cell_type": "code",
   "execution_count": 8,
   "id": "8bf6ac4e-0558-4dea-bb78-cc0de07f1dee",
   "metadata": {},
   "outputs": [],
   "source": [
    "dumpJoblib('data_label/all_shuffled_data.joblib', df_shuffled)"
   ]
  },
  {
   "cell_type": "code",
   "execution_count": 9,
   "id": "8b3c8c51-7320-45a6-9336-f98542c4e28f",
   "metadata": {},
   "outputs": [],
   "source": [
    "for i in range(181):\n",
    "    start = int(i * 500)\n",
    "    end = int((i + 1)*500)\n",
    "    tmp = df_shuffled[start: end]\n",
    "    dumpJoblib(f'data_label/{start:05}_{end-1:05}.joblib', tmp)"
   ]
  },
  {
   "cell_type": "code",
   "execution_count": 11,
   "id": "f2811934-edc3-4317-b7e8-26ba4e950e7b",
   "metadata": {},
   "outputs": [
    {
     "data": {
      "text/plain": [
       "500"
      ]
     },
     "execution_count": 11,
     "metadata": {},
     "output_type": "execute_result"
    }
   ],
   "source": [
    "tmp = loadJoblib('data_label/00000_00499.joblib')\n",
    "tmp_text = tmp['tweet_full_text']\n",
    "len(tmp_text)"
   ]
  },
  {
   "cell_type": "code",
   "execution_count": 12,
   "id": "d958d149-0db7-46dc-8dfc-f2708d7db906",
   "metadata": {},
   "outputs": [
    {
     "data": {
      "text/html": [
       "<div>\n",
       "<style scoped>\n",
       "    .dataframe tbody tr th:only-of-type {\n",
       "        vertical-align: middle;\n",
       "    }\n",
       "\n",
       "    .dataframe tbody tr th {\n",
       "        vertical-align: top;\n",
       "    }\n",
       "\n",
       "    .dataframe thead th {\n",
       "        text-align: right;\n",
       "    }\n",
       "</style>\n",
       "<table border=\"1\" class=\"dataframe\">\n",
       "  <thead>\n",
       "    <tr style=\"text-align: right;\">\n",
       "      <th></th>\n",
       "      <th>ex_index</th>\n",
       "      <th>tweet_id</th>\n",
       "      <th>tweet_full_text</th>\n",
       "      <th>tweet_favorite_count</th>\n",
       "      <th>tweet_created_at</th>\n",
       "    </tr>\n",
       "  </thead>\n",
       "  <tbody>\n",
       "    <tr>\n",
       "      <th>495</th>\n",
       "      <td>280</td>\n",
       "      <td>1396608361362194433</td>\n",
       "      <td>RT @kasumikamukamu: おはようございます☀️\\n\\n今日も１日宜しくお願い...</td>\n",
       "      <td>0</td>\n",
       "      <td>2021-05-24 08:25:55</td>\n",
       "    </tr>\n",
       "    <tr>\n",
       "      <th>496</th>\n",
       "      <td>200</td>\n",
       "      <td>1379579462203760643</td>\n",
       "      <td>とちぎ県南サポステは若者の就労支援機関です。\\n\\nキャリアカウンセリングや就活講座など就労...</td>\n",
       "      <td>2</td>\n",
       "      <td>2021-04-07 08:39:09</td>\n",
       "    </tr>\n",
       "    <tr>\n",
       "      <th>497</th>\n",
       "      <td>304</td>\n",
       "      <td>1392621293636182019</td>\n",
       "      <td>就活のこと知りたいからDM解放してみたんだけどDM解放ちゃんと出来てるのかわからん。誰か解放...</td>\n",
       "      <td>2</td>\n",
       "      <td>2021-05-13 08:22:44</td>\n",
       "    </tr>\n",
       "    <tr>\n",
       "      <th>498</th>\n",
       "      <td>213</td>\n",
       "      <td>1398783227909730311</td>\n",
       "      <td>RT @_HWR2: ヤバすぎ人事係「では、あなたを潤滑油に例えると何になりますか？」\\n\\...</td>\n",
       "      <td>0</td>\n",
       "      <td>2021-05-30 08:28:04</td>\n",
       "    </tr>\n",
       "    <tr>\n",
       "      <th>499</th>\n",
       "      <td>63</td>\n",
       "      <td>1397339141826777093</td>\n",
       "      <td>@hs1kz 就活お疲れ様です！\\nそして、おめでとうございますー🎉\\nとりあえず、お話しし...</td>\n",
       "      <td>1</td>\n",
       "      <td>2021-05-26 08:49:47</td>\n",
       "    </tr>\n",
       "  </tbody>\n",
       "</table>\n",
       "</div>"
      ],
      "text/plain": [
       "     ex_index             tweet_id  \\\n",
       "495       280  1396608361362194433   \n",
       "496       200  1379579462203760643   \n",
       "497       304  1392621293636182019   \n",
       "498       213  1398783227909730311   \n",
       "499        63  1397339141826777093   \n",
       "\n",
       "                                       tweet_full_text  tweet_favorite_count  \\\n",
       "495  RT @kasumikamukamu: おはようございます☀️\\n\\n今日も１日宜しくお願い...                     0   \n",
       "496  とちぎ県南サポステは若者の就労支援機関です。\\n\\nキャリアカウンセリングや就活講座など就労...                     2   \n",
       "497  就活のこと知りたいからDM解放してみたんだけどDM解放ちゃんと出来てるのかわからん。誰か解放...                     2   \n",
       "498  RT @_HWR2: ヤバすぎ人事係「では、あなたを潤滑油に例えると何になりますか？」\\n\\...                     0   \n",
       "499  @hs1kz 就活お疲れ様です！\\nそして、おめでとうございますー🎉\\nとりあえず、お話しし...                     1   \n",
       "\n",
       "        tweet_created_at  \n",
       "495  2021-05-24 08:25:55  \n",
       "496  2021-04-07 08:39:09  \n",
       "497  2021-05-13 08:22:44  \n",
       "498  2021-05-30 08:28:04  \n",
       "499  2021-05-26 08:49:47  "
      ]
     },
     "execution_count": 12,
     "metadata": {},
     "output_type": "execute_result"
    }
   ],
   "source": [
    "tmp.tail()"
   ]
  },
  {
   "cell_type": "code",
   "execution_count": 13,
   "id": "5c2ea2c1-2558-43cc-a127-6e1e170e0af6",
   "metadata": {},
   "outputs": [
    {
     "data": {
      "text/plain": [
       "90500"
      ]
     },
     "execution_count": 13,
     "metadata": {},
     "output_type": "execute_result"
    }
   ],
   "source": [
    "import os\n",
    "import glob\n",
    "\n",
    "import pandas as pd\n",
    "\n",
    "def dumpJoblib(fileName, obj):\n",
    "    with open(fileName, mode=\"wb\") as f:\n",
    "        joblib.dump(obj, f, compress=3)\n",
    "        \n",
    "def loadJoblib(fileName):\n",
    "    with open(fileName, mode=\"rb\") as f:\n",
    "        return joblib.load(f)\n",
    "\n",
    "# df = pd.read_csv('data/all_data.csv')\n",
    "df = loadJoblib('data_label/all_shuffled_data.joblib')\n",
    "df.head()\n",
    "id_list = df['tweet_id']\n",
    "len(id_list)\n",
    "len(set(id_list))"
   ]
  },
  {
   "cell_type": "code",
   "execution_count": 24,
   "id": "ed769419-4ef2-44e4-ab99-69931c744daf",
   "metadata": {},
   "outputs": [
    {
     "data": {
      "text/html": [
       "<div>\n",
       "<style scoped>\n",
       "    .dataframe tbody tr th:only-of-type {\n",
       "        vertical-align: middle;\n",
       "    }\n",
       "\n",
       "    .dataframe tbody tr th {\n",
       "        vertical-align: top;\n",
       "    }\n",
       "\n",
       "    .dataframe thead th {\n",
       "        text-align: right;\n",
       "    }\n",
       "</style>\n",
       "<table border=\"1\" class=\"dataframe\">\n",
       "  <thead>\n",
       "    <tr style=\"text-align: right;\">\n",
       "      <th></th>\n",
       "      <th>ex_index</th>\n",
       "      <th>tweet_id</th>\n",
       "      <th>tweet_full_text</th>\n",
       "      <th>tweet_favorite_count</th>\n",
       "      <th>tweet_created_at</th>\n",
       "    </tr>\n",
       "  </thead>\n",
       "  <tbody>\n",
       "    <tr>\n",
       "      <th>7000</th>\n",
       "      <td>109</td>\n",
       "      <td>1381030355939983364</td>\n",
       "      <td>教育の中で扱ってきた問題は「唯一絶対の正解」を「正しいやり方」で導くもの。しかし就活には（つ...</td>\n",
       "      <td>0</td>\n",
       "      <td>2021-04-11 08:44:29</td>\n",
       "    </tr>\n",
       "    <tr>\n",
       "      <th>7001</th>\n",
       "      <td>179</td>\n",
       "      <td>1391175652381011969</td>\n",
       "      <td>【就活】入りたい会社の実態を調べる方法【ひろゆき切り抜き】 https://t.co/gJW...</td>\n",
       "      <td>1</td>\n",
       "      <td>2021-05-09 08:38:16</td>\n",
       "    </tr>\n",
       "    <tr>\n",
       "      <th>7002</th>\n",
       "      <td>328</td>\n",
       "      <td>1400595848719855618</td>\n",
       "      <td>【志望動機の強度を高める質問3選】\\nSTEP① 就活の軸は？\\nSTEP② なんでその軸に...</td>\n",
       "      <td>5</td>\n",
       "      <td>2021-06-04 08:30:46</td>\n",
       "    </tr>\n",
       "    <tr>\n",
       "      <th>7003</th>\n",
       "      <td>216</td>\n",
       "      <td>1398060063596503041</td>\n",
       "      <td>【就活を終えようと思います】\\n\\n企業が恐れているのは内定辞退です。\\n\\n少しでもこいつ...</td>\n",
       "      <td>0</td>\n",
       "      <td>2021-05-28 08:34:28</td>\n",
       "    </tr>\n",
       "    <tr>\n",
       "      <th>7004</th>\n",
       "      <td>460</td>\n",
       "      <td>1358914873040637954</td>\n",
       "      <td>【就活を始めるタイミング】\\nインターン選考の始まる直前である、5月です。 インターンに行く...</td>\n",
       "      <td>0</td>\n",
       "      <td>2021-02-09 08:05:27</td>\n",
       "    </tr>\n",
       "  </tbody>\n",
       "</table>\n",
       "</div>"
      ],
      "text/plain": [
       "      ex_index             tweet_id  \\\n",
       "7000       109  1381030355939983364   \n",
       "7001       179  1391175652381011969   \n",
       "7002       328  1400595848719855618   \n",
       "7003       216  1398060063596503041   \n",
       "7004       460  1358914873040637954   \n",
       "\n",
       "                                        tweet_full_text  tweet_favorite_count  \\\n",
       "7000  教育の中で扱ってきた問題は「唯一絶対の正解」を「正しいやり方」で導くもの。しかし就活には（つ...                     0   \n",
       "7001  【就活】入りたい会社の実態を調べる方法【ひろゆき切り抜き】 https://t.co/gJW...                     1   \n",
       "7002  【志望動機の強度を高める質問3選】\\nSTEP① 就活の軸は？\\nSTEP② なんでその軸に...                     5   \n",
       "7003  【就活を終えようと思います】\\n\\n企業が恐れているのは内定辞退です。\\n\\n少しでもこいつ...                     0   \n",
       "7004  【就活を始めるタイミング】\\nインターン選考の始まる直前である、5月です。 インターンに行く...                     0   \n",
       "\n",
       "         tweet_created_at  \n",
       "7000  2021-04-11 08:44:29  \n",
       "7001  2021-05-09 08:38:16  \n",
       "7002  2021-06-04 08:30:46  \n",
       "7003  2021-05-28 08:34:28  \n",
       "7004  2021-02-09 08:05:27  "
      ]
     },
     "execution_count": 24,
     "metadata": {},
     "output_type": "execute_result"
    }
   ],
   "source": [
    "def dumpJoblib(fileName, obj):\n",
    "    with open(fileName, mode=\"wb\") as f:\n",
    "        joblib.dump(obj, f, compress=3)\n",
    "        \n",
    "def loadJoblib(fileName):\n",
    "    with open(fileName, mode=\"rb\") as f:\n",
    "        return joblib.load(f)\n",
    "\n",
    "df = loadJoblib('data_label/07000_07499.joblib')\n",
    "df.head()"
   ]
  },
  {
   "cell_type": "code",
   "execution_count": 27,
   "id": "593446a4-da76-40e1-81a7-409fbf781f5e",
   "metadata": {},
   "outputs": [
    {
     "data": {
      "text/plain": [
       "'八幡：就活の面接で「彼女いるん？」って聞かれて、思わず「はい、1つ下に将来を誓い合った恋人がいます」と答えて面接官に好評だったが、残念ながら1つ下と言うのは年齢の事じゃなくて次元の話'"
      ]
     },
     "execution_count": 27,
     "metadata": {},
     "output_type": "execute_result"
    }
   ],
   "source": [
    "df.iloc[165]['tweet_full_text']"
   ]
  },
  {
   "cell_type": "code",
   "execution_count": null,
   "id": "599e691a-9c5d-4c2c-9430-26c4a6994ab0",
   "metadata": {},
   "outputs": [],
   "source": []
  }
 ],
 "metadata": {
  "kernelspec": {
   "display_name": "Python 3",
   "language": "python",
   "name": "python3"
  },
  "language_info": {
   "codemirror_mode": {
    "name": "ipython",
    "version": 3
   },
   "file_extension": ".py",
   "mimetype": "text/x-python",
   "name": "python",
   "nbconvert_exporter": "python",
   "pygments_lexer": "ipython3",
   "version": "3.8.2"
  }
 },
 "nbformat": 4,
 "nbformat_minor": 5
}
