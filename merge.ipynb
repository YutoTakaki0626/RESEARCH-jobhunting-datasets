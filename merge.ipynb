{
 "cells": [
  {
   "cell_type": "code",
   "execution_count": 1,
   "id": "7f62e5e7-55d0-4420-960a-004008bda1d5",
   "metadata": {},
   "outputs": [],
   "source": [
    "%load_ext autoreload\n",
    "%autoreload 2"
   ]
  },
  {
   "cell_type": "code",
   "execution_count": 7,
   "id": "98b0e937-9d7a-45c8-a223-42ef89452641",
   "metadata": {},
   "outputs": [
    {
     "data": {
      "text/plain": [
       "['data_label_fin3/00000_00499.joblib',\n",
       " 'data_label_fin3/00500_00999.joblib',\n",
       " 'data_label_fin3/01000_01499.joblib',\n",
       " 'data_label_fin3/01500_01999.joblib',\n",
       " 'data_label_fin3/02000_02499.joblib',\n",
       " 'data_label_fin3/02500_02999.joblib',\n",
       " 'data_label_fin3/03000_03499.joblib',\n",
       " 'data_label_fin3/03500_03999.joblib',\n",
       " 'data_label_fin3/04000_04499.joblib',\n",
       " 'data_label_fin3/04500_04999.joblib',\n",
       " 'data_label_fin3/05000_05499.joblib',\n",
       " 'data_label_fin3/05500_05999.joblib',\n",
       " 'data_label_fin3/06000_06499.joblib',\n",
       " 'data_label_fin3/06500_06999.joblib',\n",
       " 'data_label_fin3/07000_07499.joblib',\n",
       " 'data_label_fin3/07500_07999.joblib',\n",
       " 'data_label_fin3/08000_08499.joblib',\n",
       " 'data_label_fin3/08500_08999.joblib',\n",
       " 'data_label_fin3/09000_09499.joblib',\n",
       " 'data_label_fin3/09500_09999.joblib']"
      ]
     },
     "execution_count": 7,
     "metadata": {},
     "output_type": "execute_result"
    }
   ],
   "source": [
    "import os\n",
    "import glob\n",
    "\n",
    "path_folder = os.path.join('data_label_fin3', '*')\n",
    "files = glob.glob(path_folder)\n",
    "files.sort()\n",
    "files"
   ]
  },
  {
   "cell_type": "code",
   "execution_count": 9,
   "id": "a7e93072-808c-42f7-8443-08907a54b9bd",
   "metadata": {},
   "outputs": [
    {
     "data": {
      "text/plain": [
       "10000"
      ]
     },
     "execution_count": 9,
     "metadata": {},
     "output_type": "execute_result"
    }
   ],
   "source": [
    "import os\n",
    "import glob\n",
    "\n",
    "import pandas as pd\n",
    "import joblib\n",
    "\n",
    "def dumpJoblib(fileName, obj):\n",
    "    with open(fileName, mode=\"wb\") as f:\n",
    "        joblib.dump(obj, f, compress=3)\n",
    "        \n",
    "def loadJoblib(fileName):\n",
    "    with open(fileName, mode=\"rb\") as f:\n",
    "        return joblib.load(f)\n",
    "    \n",
    "df = loadJoblib('data_label_fin3/00000_00499.joblib')\n",
    "\n",
    "for file in files[1:] :\n",
    "    tmp = loadJoblib(file)\n",
    "    df = pd.concat([df, tmp])\n",
    "    \n",
    "len(df)"
   ]
  },
  {
   "cell_type": "code",
   "execution_count": 14,
   "id": "f11584be-af98-451a-9e31-01859fb1aee0",
   "metadata": {},
   "outputs": [
    {
     "data": {
      "text/plain": [
       "Index(['ex_index', 'tweet_id', 'tweet_full_text', 'tweet_favorite_count',\n",
       "       'tweet_created_at', 'label', 'label2', 'finlabel'],\n",
       "      dtype='object')"
      ]
     },
     "execution_count": 14,
     "metadata": {},
     "output_type": "execute_result"
    }
   ],
   "source": [
    "df.columns"
   ]
  },
  {
   "cell_type": "code",
   "execution_count": 17,
   "id": "a9f3ea41-14a2-4943-aa2a-19060e17f093",
   "metadata": {},
   "outputs": [
    {
     "data": {
      "text/html": [
       "<div>\n",
       "<style scoped>\n",
       "    .dataframe tbody tr th:only-of-type {\n",
       "        vertical-align: middle;\n",
       "    }\n",
       "\n",
       "    .dataframe tbody tr th {\n",
       "        vertical-align: top;\n",
       "    }\n",
       "\n",
       "    .dataframe thead th {\n",
       "        text-align: right;\n",
       "    }\n",
       "</style>\n",
       "<table border=\"1\" class=\"dataframe\">\n",
       "  <thead>\n",
       "    <tr style=\"text-align: right;\">\n",
       "      <th></th>\n",
       "      <th>tweet_id</th>\n",
       "      <th>finlabel</th>\n",
       "    </tr>\n",
       "  </thead>\n",
       "  <tbody>\n",
       "    <tr>\n",
       "      <th>0</th>\n",
       "      <td>1370151453805871104</td>\n",
       "      <td>1</td>\n",
       "    </tr>\n",
       "    <tr>\n",
       "      <th>1</th>\n",
       "      <td>1396246713044652032</td>\n",
       "      <td>4</td>\n",
       "    </tr>\n",
       "    <tr>\n",
       "      <th>2</th>\n",
       "      <td>1397335585459560449</td>\n",
       "      <td>4</td>\n",
       "    </tr>\n",
       "    <tr>\n",
       "      <th>3</th>\n",
       "      <td>1375959601900777474</td>\n",
       "      <td>3</td>\n",
       "    </tr>\n",
       "    <tr>\n",
       "      <th>4</th>\n",
       "      <td>1347685399552880641</td>\n",
       "      <td>4</td>\n",
       "    </tr>\n",
       "  </tbody>\n",
       "</table>\n",
       "</div>"
      ],
      "text/plain": [
       "              tweet_id  finlabel\n",
       "0  1370151453805871104         1\n",
       "1  1396246713044652032         4\n",
       "2  1397335585459560449         4\n",
       "3  1375959601900777474         3\n",
       "4  1347685399552880641         4"
      ]
     },
     "execution_count": 17,
     "metadata": {},
     "output_type": "execute_result"
    }
   ],
   "source": [
    "copy = df.copy()\n",
    "final = copy.loc[:, ['tweet_id', 'finlabel']]\n",
    "final.head()"
   ]
  },
  {
   "cell_type": "code",
   "execution_count": 20,
   "id": "5ad4f1ea-148a-4948-9c3c-8c6737a6c4ef",
   "metadata": {},
   "outputs": [
    {
     "data": {
      "text/html": [
       "<div>\n",
       "<style scoped>\n",
       "    .dataframe tbody tr th:only-of-type {\n",
       "        vertical-align: middle;\n",
       "    }\n",
       "\n",
       "    .dataframe tbody tr th {\n",
       "        vertical-align: top;\n",
       "    }\n",
       "\n",
       "    .dataframe thead th {\n",
       "        text-align: right;\n",
       "    }\n",
       "</style>\n",
       "<table border=\"1\" class=\"dataframe\">\n",
       "  <thead>\n",
       "    <tr style=\"text-align: right;\">\n",
       "      <th></th>\n",
       "      <th>tweet_id</th>\n",
       "      <th>tweet_full_text</th>\n",
       "      <th>finlabel</th>\n",
       "    </tr>\n",
       "  </thead>\n",
       "  <tbody>\n",
       "    <tr>\n",
       "      <th>0</th>\n",
       "      <td>1370151453805871104</td>\n",
       "      <td>おはようございます☀\\n\\n休職382日目。昨日はたくさんのリプありがとうございました😭✨こ...</td>\n",
       "      <td>1</td>\n",
       "    </tr>\n",
       "    <tr>\n",
       "      <th>1</th>\n",
       "      <td>1396246713044652032</td>\n",
       "      <td>就活生のためのグループディスカッション対策まとめ(40176view)｜ https://t...</td>\n",
       "      <td>4</td>\n",
       "    </tr>\n",
       "    <tr>\n",
       "      <th>2</th>\n",
       "      <td>1397335585459560449</td>\n",
       "      <td>【登録してくべき就活サイト】\\n就職活動において、情報量が大きな武器になります。 以下のサイ...</td>\n",
       "      <td>4</td>\n",
       "    </tr>\n",
       "    <tr>\n",
       "      <th>3</th>\n",
       "      <td>1375959601900777474</td>\n",
       "      <td>[就活のお悩みを記入してね] #宇賀なつみ アナに就活相談しよう！抽選で8名様に宇賀アナへの...</td>\n",
       "      <td>3</td>\n",
       "    </tr>\n",
       "    <tr>\n",
       "      <th>4</th>\n",
       "      <td>1347685399552880641</td>\n",
       "      <td>ESは就活におけるあなたの名刺代わりのようなもの、\\n面接でもベースになるのはES、甘く見て...</td>\n",
       "      <td>4</td>\n",
       "    </tr>\n",
       "  </tbody>\n",
       "</table>\n",
       "</div>"
      ],
      "text/plain": [
       "              tweet_id                                    tweet_full_text  \\\n",
       "0  1370151453805871104  おはようございます☀\\n\\n休職382日目。昨日はたくさんのリプありがとうございました😭✨こ...   \n",
       "1  1396246713044652032  就活生のためのグループディスカッション対策まとめ(40176view)｜ https://t...   \n",
       "2  1397335585459560449  【登録してくべき就活サイト】\\n就職活動において、情報量が大きな武器になります。 以下のサイ...   \n",
       "3  1375959601900777474  [就活のお悩みを記入してね] #宇賀なつみ アナに就活相談しよう！抽選で8名様に宇賀アナへの...   \n",
       "4  1347685399552880641  ESは就活におけるあなたの名刺代わりのようなもの、\\n面接でもベースになるのはES、甘く見て...   \n",
       "\n",
       "   finlabel  \n",
       "0         1  \n",
       "1         4  \n",
       "2         4  \n",
       "3         3  \n",
       "4         4  "
      ]
     },
     "execution_count": 20,
     "metadata": {},
     "output_type": "execute_result"
    }
   ],
   "source": [
    "contain = copy.loc[:, ['tweet_id', 'tweet_full_text', 'finlabel']]\n",
    "contain.head()"
   ]
  },
  {
   "cell_type": "code",
   "execution_count": 21,
   "id": "0d1f17dd-f45b-4eb1-8129-be5b42008100",
   "metadata": {},
   "outputs": [],
   "source": [
    "dumpJoblib('final/final.joblib', final)\n",
    "dumpJoblib('final/contain.joblib', contain)"
   ]
  },
  {
   "cell_type": "code",
   "execution_count": null,
   "id": "5d81ca5d-a042-4898-96c3-670708a8a1da",
   "metadata": {},
   "outputs": [],
   "source": []
  }
 ],
 "metadata": {
  "kernelspec": {
   "display_name": "Python 3",
   "language": "python",
   "name": "python3"
  },
  "language_info": {
   "codemirror_mode": {
    "name": "ipython",
    "version": 3
   },
   "file_extension": ".py",
   "mimetype": "text/x-python",
   "name": "python",
   "nbconvert_exporter": "python",
   "pygments_lexer": "ipython3",
   "version": "3.8.2"
  }
 },
 "nbformat": 4,
 "nbformat_minor": 5
}
