{
 "cells": [
  {
   "cell_type": "code",
   "execution_count": 1,
   "id": "29dd6d32-7e1c-4b8c-80e5-254ef33cc691",
   "metadata": {},
   "outputs": [],
   "source": [
    "%load_ext autoreload\n",
    "%autoreload 2"
   ]
  },
  {
   "cell_type": "code",
   "execution_count": 2,
   "id": "e70057a9-d7af-4bcc-b37c-52ec5c02887c",
   "metadata": {},
   "outputs": [],
   "source": [
    "import matplotlib.pyplot as plt\n",
    "import seaborn as sns\n",
    "\n",
    "%matplotlib inline\n",
    "sns.set()"
   ]
  },
  {
   "cell_type": "code",
   "execution_count": 3,
   "id": "801138eb-72b0-41e2-b83f-32605cf7a1c9",
   "metadata": {},
   "outputs": [],
   "source": [
    "from lists_file import *\n",
    "tweets_list = loadJoblib(\"unique_textdata.joblib\")\n",
    "tweets_list = list(tweets_list.values())"
   ]
  },
  {
   "cell_type": "code",
   "execution_count": 11,
   "id": "7f4bf92f-db85-4e0d-8d6b-64e79a569ba8",
   "metadata": {},
   "outputs": [],
   "source": [
    "import count\n",
    "\n",
    "cnt = count.Count()\n",
    "\n",
    "# user mention\n",
    "user_mention_cnt, user_mention_list = cnt.user_mention(tweets_list)\n",
    "\n",
    "# url\n",
    "url_cnt, url_list = cnt.url(tweets_list)\n",
    "\n",
    "# hashtag\n",
    "hashtag_cnt, hashtag_list = cnt.hashtag(tweets_list)\n",
    "\n",
    "# www\n",
    "w_cnt, w_list = cnt.www(tweets_list)\n",
    "\n",
    "# not_single\n",
    "not_single_cnt, not_single_list = cnt.not_single(tweets_list)\n",
    "\n",
    "# mixed tweet\n",
    "contained_cnt, contained_list = cnt.mixed_tweet(tweets_list)\n",
    "\n",
    "# emoji\n",
    "emojis_cnt, emojis_list = cnt.emojis(tweets_list)\n",
    "\n",
    "# covid19\n",
    "covid_cnt, covid_list = cnt.covid19(tweets_list)"
   ]
  },
  {
   "cell_type": "code",
   "execution_count": 29,
   "id": "11211f9a-817e-4c99-8a8f-f7810d2385b9",
   "metadata": {},
   "outputs": [
    {
     "data": {
      "text/plain": [
       "2541"
      ]
     },
     "execution_count": 29,
     "metadata": {},
     "output_type": "execute_result"
    }
   ],
   "source": [
    "# covid19\n",
    "import count\n",
    "count1 = count.Count()\n",
    "covid_cnt, covid_list = count1.covid19(tweets_list)\n",
    "covid_cnt"
   ]
  },
  {
   "cell_type": "code",
   "execution_count": 28,
   "id": "c740f6cb-8a0c-42e2-8cbf-0805e70b30be",
   "metadata": {},
   "outputs": [
    {
     "name": "stderr",
     "output_type": "stream",
     "text": [
      "/home/takakiyuto/anaconda3/lib/python3.8/site-packages/seaborn/_decorators.py:36: FutureWarning: Pass the following variables as keyword args: x, y. From version 0.12, the only valid positional argument will be `data`, and passing other arguments without an explicit keyword will result in an error or misinterpretation.\n",
      "  warnings.warn(\n"
     ]
    },
    {
     "data": {
      "image/png": "[encoded data removed]",
      "text/plain": [
       "<Figure size 432x288 with 1 Axes>"
      ]
     },
     "metadata": {},
     "output_type": "display_data"
    }
   ],
   "source": [
    "x = ['User Mention', 'emoji', 'URL', 'Hashtag', 'alphabet\\n(removed \\n #----  )' ]\n",
    "y = [user_mention_cnt, emojis_cnt, url_cnt, hashtag_cnt, contained_cnt]\n",
    "\n",
    "figure = sns.barplot(x, y).get_figure()\n",
    "figure.savefig('result1')"
   ]
  },
  {
   "cell_type": "code",
   "execution_count": 14,
   "id": "ebe5b331-99c9-4dbf-88de-e8ba1d25d1b6",
   "metadata": {},
   "outputs": [
    {
     "name": "stderr",
     "output_type": "stream",
     "text": [
      "/home/takakiyuto/anaconda3/lib/python3.8/site-packages/seaborn/_decorators.py:36: FutureWarning: Pass the following variables as keyword args: x, y. From version 0.12, the only valid positional argument will be `data`, and passing other arguments without an explicit keyword will result in an error or misinterpretation.\n",
      "  warnings.warn(\n"
     ]
    },
    {
     "data": {
      "image/png": "[encoded data removed]",
      "text/plain": [
       "<Figure size 432x288 with 1 Axes>"
      ]
     },
     "metadata": {},
     "output_type": "display_data"
    }
   ],
   "source": [
    "x = ['alphabet', 'alphabet\\n(removed \\n #----  )', 'using \\'w\\'', 'using  \\n 2 alphabets \\n or more' ]\n",
    "y = [contained_cnt, contained_cnt, w_cnt, not_single_cnt]\n",
    "\n",
    "figure = sns.barplot(x, y).get_figure()\n",
    "#figure.savefig('result2')"
   ]
  },
  {
   "cell_type": "code",
   "execution_count": 5,
   "id": "d1dbd389-1855-4b4d-bee5-ebaae2c2c284",
   "metadata": {},
   "outputs": [],
   "source": [
    "import remove\n",
    "\n",
    "rm = remove.Remove()\n",
    "\n",
    "rm_n = rm.new_line_marks(tweets_list)\n",
    "rm_n_u3000 = rm.all_blanks(rm_n)\n",
    "\n",
    "dumpJoblib('remove_data/rm_n_u3000', rm_n_u3000)"
   ]
  },
  {
   "cell_type": "code",
   "execution_count": 42,
   "id": "5b84d79a-e5d2-470a-be7f-d0750a85379d",
   "metadata": {},
   "outputs": [],
   "source": [
    "rm_n_u3000_um = rm.usermention(rm_n_u3000)\n",
    "\n",
    "dumpJoblib('remove_data/rm_n_u3000_um', rm_n_u3000_um)"
   ]
  },
  {
   "cell_type": "code",
   "execution_count": 43,
   "id": "f68953c0-7e4a-4357-a826-eb24eca63dfc",
   "metadata": {},
   "outputs": [],
   "source": [
    "rm_n_u3000_um_url = rm.url(rm_n_u3000_um)\n",
    "\n",
    "dumpJoblib('remove_data/rm_n_u3000_um_url', rm_n_u3000_um_url)"
   ]
  },
  {
   "cell_type": "code",
   "execution_count": 45,
   "id": "e578cc06-ffe7-450d-bc30-b4e5830e9c4d",
   "metadata": {},
   "outputs": [],
   "source": [
    "rm_n_u3000_um_url_honly = rm.hashtag(rm_n_u3000_um_url)\n",
    "\n",
    "dumpJoblib('remove_data/rm_n_u3000_um_url_honly', rm_n_u3000_um_url_honly)"
   ]
  },
  {
   "cell_type": "code",
   "execution_count": 46,
   "id": "8d0c22f3-80ab-43db-b4a0-a28f9666b03b",
   "metadata": {},
   "outputs": [],
   "source": [
    "rm_n_u3000_um_url_hseries = rm.hashtag_a_series_of_words(rm_n_u3000_um_url)\n",
    "\n",
    "dumpJoblib('remove_data/rm_n_u3000_um_url_hsries', rm_n_u3000_um_url_hseries)"
   ]
  },
  {
   "cell_type": "code",
   "execution_count": 48,
   "id": "ea744cd7-0d08-4045-8679-13e12551a41c",
   "metadata": {},
   "outputs": [],
   "source": [
    "rm_n_u3000_um_url_honly_em = rm.emojis(rm_n_u3000_um_url_honly)\n",
    "\n",
    "dumpJoblib('remove_data/rm_n_u3000_um_url_honly_em', rm_n_u3000_um_url_honly_em)"
   ]
  },
  {
   "cell_type": "code",
   "execution_count": 7,
   "id": "8150d849-37f4-487b-abbd-0eaae94d460a",
   "metadata": {},
   "outputs": [],
   "source": [
    "rm_n_u3000_um_url_hseries = loadJoblib('remove_data/rm_n_u3000_um_url_hsries')\n",
    "\n",
    "rm_n_u3000_um_url_hseries_em = rm.emojis(rm_n_u3000_um_url_hseries)\n",
    "\n",
    "dumpJoblib('remove_data/rm_n_u3000_um_url_series_em', rm_n_u3000_um_url_hseries_em)"
   ]
  },
  {
   "cell_type": "code",
   "execution_count": 6,
   "id": "b306a63d-ae14-4e9b-ad26-f8d59c60304c",
   "metadata": {},
   "outputs": [],
   "source": [
    "import remove\n",
    "from lists_file import *\n",
    "rm = remove.Remove()\n"
   ]
  },
  {
   "cell_type": "code",
   "execution_count": 9,
   "id": "b738d14b-02b1-4a48-9633-1aab3d800f56",
   "metadata": {},
   "outputs": [
    {
     "data": {
      "text/plain": [
       "['更新：WHOは新型コロナウイルスの正式名称を「COVID-19」とすると発表しました',\n",
       " 'これって英語圏の人は見間違えないのかな？#COVID19新型コロナウイルスの名称「COVID-19」をゴディバと見間違えるが続出 ',\n",
       " '#新型コロナ ウイルス感染症の拡大防止に係る #災害派遣  要員として航空機動衛生隊の隊員１名がクルーズ船「ダイヤモンドプリンセス号」医療支援のため小牧基地を出発しました。',\n",
       " '未曾有の事態の中、中国政府は言論の自由を奪っています記事では、中国国内の実態の取材に尽力していた記者が拘束されたことを報道しています中国国民も、政府に対して不信感を募らせています🇨🇳政府による人災とならないことを祈りま… ',\n",
       " '新しいコロナウィルスの名称COVID-19とWHO命名。クールで恐ろしい名前やな#新型コロナウィルス #やばい病気',\n",
       " '☆新型コロナウィルス相談窓口（各都道府県）一応窓口は、ありますが、まず、風邪でしょうといわれます。⇒理由：国内で一人でも感染者が出たらパニックになるから?（封じ込められてないことがばれるから？）#COVID_19',\n",
       " '新型コロナウイルスCOVID-19に罹患した妊婦は，妊娠していない成人と臨床的特徴は同様であり，出産および新生児に特に問題なし．羊水，臍帯血からもウイルスは検出されなかった．9症例報告．（Lancet 2020, Feb 12）',\n",
       " 'いっふーさくらいふちゃんだよ＼#手洗い で手首も洗ってる／手首にも意外とウイルスやばい菌がついているよΣ（・□・；）洗い残しのないように、ちゃんと洗おうね！#新型コロナウイルス  #COVID19… ',\n",
       " '湖北省感染爆発か１日で感染者１万４千人増加死者も２００人超増える#covid19新型コロナの流行の終息時期WHO「見通せない」 ',\n",
       " '【中央日報】韓国人は新型肺炎の潜在保菌者? オランダ航空の「人種差別」が俎上にオランダ航空会社であるKLM航空が人種差別の論議に巻き込まれた。「COVID-19(新型コロナウイルス)」に関連して韓国人に差別的な措置を取ったとい… ',\n",
       " '新型コロナウイルス(2019-nCoV, COVID-19)の重症管理に役立つコクランエビデンスを集めた特集号の日本語訳が完了しました。それぞれのコクランレビューのリンクは訳のあるものについては日本語表記されるリンクにしています… ',\n",
       " '検疫官も感染してしまうとなると、やはり乗客と接する乗員は全数検査するべきだと思う。 #新型肺炎 #新型コロナウィルス #クルーズ船 #ひるおび',\n",
       " '新型コロナウイルス（COVID－19）治療の最前線に立つ、大曲貴夫先生にお話を伺いました。「国内では一人も死なせない」と連日奮闘なさって、体重が2キロ落ちたとのこと。院内感染管理の重要性や最新治療、一般の人ができることも話して頂き… ',\n",
       " 'クルーズ船「ダイヤモンドプリンス号」の乗客輸送支援として #小牧基地 #第１輸送航空隊 管理隊員４名と大型バス２台が出発しました。#新型コロナウイルス #災害派遣 ',\n",
       " '急に新型コロナウイルスCOVID-19患者数が1日で14840例（うち12000例近くは武漢）急増しましたが、これはこれまでCTやPCRで陽性とでなかったけど疑わしい症例を臨床診断として患者数に含めたからのようです。PCRの検査感… ',\n",
       " '都内のタクシー運転手が感染。遅かれ早かれ来ると判っていた事だが…。情報の確実さの責任に束縛された専門家の発信が後手に回った結果、世の中全体の、そして業界の動きが遅きに失した感がある。#首都圏ネットワーク #新型コロナウイルス #感染症',\n",
       " '【速報】東京都内のタクシー運転手の男性、新型コロナウイルスに感染確認#新型肺炎 #新型コロナウイルス',\n",
       " '中国では看護師はウィルスが髪につかないようにマルコメちゃんに。髪の長い女性は切ったりまとめた方が良いかもしれない。#coronavirus#コロナウィルス#新型コロナウィルス',\n",
       " '#新型コロナウイルスCOVID-19和歌山県の感染者は医師とのことです。医師も命懸けです！正しい #感染対策 をお願いします。',\n",
       " '日本政府､緊急ウイルス対策に総額153億円ワクチン開発やマスク増産､簡易検査キット準備へ ',\n",
       " '新型コロナウイルス 神奈川の80代女性死亡 感染者死亡は国内初 | NHKニュース   ',\n",
       " '#新型コロナウイルス COVID-19新型コロナウイルスのことが皆様お分かりになったと思います。医師も命懸けです！冷静に正しい #感染対策 をお願いします。新型肺炎で国内初の死者（共同通信） ',\n",
       " 'フォロワーさんに医療従事者の方がいればお聞きしたいのですが、COVID-19って、未知のウィルスと言われていますが、コロナウィルスの範囲内での「未知」なのでしょうか？それともコロナウィルスの性質を飛び越えた未知なのでしょうか？ずーーっと気になっております。',\n",
       " '急に新型コロナウイルスの感染患者が増えたけど、みんな2/1くらいに具合悪くなって病院行って、普通に肺炎って診断されて、詳しく調べたらCOVID-19だったって。これは国内でかなり蔓延してると見た',\n",
       " 'これはアメリカよりも、今の日本が該当する。数週間で日本国内の武漢肺炎・COVID感染者が急増することを覚悟すべきだ。#新型コロナウイルス ',\n",
       " 'COVID-19は和名は「19式コロナウィルス」でよいの？やはり和暦で「2式冠状病毒」？',\n",
       " '対策とるならガッツリと短期決戦していかないといけないと思います#厚生労働省#安倍内閣#河野太郎#コロナウイルス ',\n",
       " '感染において・・種を早く発見すること・種を播き広げないこと・芽を早く見つけること・芽を早く摘みとること日本中において必要とされることだ。日本中のどこにおいても速やかに対応ができるようにする必要がある。#新型肺炎#新型コロナウイルス',\n",
       " '#新型コロナウイルス#COVID#グッとラック感染防止のひとつとして「辛いものは食べない」と#ナビタスクリニック の女性医師が紹介していたが何の根拠もない。世界中に蔓延するよくあるガセ情報のひとつ。キムチ会社や唐辛子農… ',\n",
       " '＃新型コロナウィルス#Coronavirus＃新型冠状病毒肺炎   オリンピックはできないですね。 ',\n",
       " 'こちらにも載せときます。COVID-19について。シンガポールと香港が増えてきました。#新型コロナ ',\n",
       " '新型コロナウイルス（COVID-19）の次の感染爆発の地は東京になりそうだ ',\n",
       " '新型コロナウイルスの症状は、かくして「COVID-19」と名づけられた｜',\n",
       " 'ヨーロッパーでも死者発生！#コロナウィルスFirst coronavirus patient dies in Europe ',\n",
       " '「大規模催し自粛を」県医師会、緊急会議で異例の提言新型肺炎 - 琉球新報 - 沖縄の新聞、地域のニュース ',\n",
       " '昨日まで2日間だけ東京にいましたが、ほんとそんな気がしてきた| 新型コロナウイルス（COVID-19）の次の感染爆発の地は東京になりそうだ ',\n",
       " '各国拒否の船 乗客の感染確認#新型肺炎 #新型コロナウイルス #COVID19ああっ―)やっぱり？WHO(中国)の要請(圧力)に応じたばかりに……ガンバレカンボジアWHOのいうことは信じてはダメという前例を作りまし… ',\n",
       " '新型コロナウイルス（COVID-19）の次の感染爆発の地は東京になりそうだ ',\n",
       " 'ダイヤモンド・プリンセスの船内環境を整える義務は船側にあります。感染外国人の入国拒否もできるのに、入院させている日本政府は、各国から感謝されこそすれ非難される謂れはありません。トランプを見倣って、日本政府はもっと発信すべきです… ',\n",
       " '世界保健機関（WHO）は今回の新型コロナウイルス（COVID-19）の広がりを「インフォデミック」と表現するように、感染の規模が拡大するとともに、世界規模で陰謀論などを取り込んだデマが拡散を続けている。 ',\n",
       " 'コロナウイルス風邪と変わらないとなると…#とくダネ#新型肺炎 ',\n",
       " '北京厳戒､新型コロナで2週間隔離義務付け王毅国務委員兼外相｢感染拡大は抑制されている｣ ',\n",
       " 'みなさん生き延びよう！1月下旬に予測。新型コロナウイルス。日本こうなる。中国全土で感染拡大倒れる人続出 ',\n",
       " '政府の対応が不安なのですが(^-^;新型肺炎CMで注意喚起へ首相「不安解消に全力」衆院予算委 - 毎日新聞 ',\n",
       " '日本人マスクしなさすぎ、、これでコロナ感染るとか騒ぐのただの個人レベルの危機管理のなさじゃん、、まじで戻ってきたくなかったこんなところ。政府批判する前に自己管理しろよ。。#コロナ #コロナウイルス #武漢肺炎 #COVID19',\n",
       " 'James Lyon-Weilerの説への反論としてCOVID2019は遺伝子組み合えの \"pShuttle-SN\" 配列を持ってはいないと主張されています。人為的なものよりコウモリに宿るコロナウイルス遺伝子に近いという意見です。… ',\n",
       " '今日はシンガポールで2名の感染者がが確認されました。計77名です。今日確認されたうちの一人は武漢から帰ってきた1歳の男の子だそうです。子供は無防備です‥親が気をつけてあげましょう！ #コロナウィルス ',\n",
       " '🇨🇳武漢肺炎COVID19新型コロナウイルスの新しい報告。人体の腎臓と精巣も攻撃します！ ',\n",
       " '新型コロナウイルス「COVID-19」全然浸透してない。メディアもコロナ、コロナやし。。',\n",
       " 'Epidemiological curves （ECDC）2/17 全体的に横ばい、アジア微減。#新型コロナウイルス #武漢 ']"
      ]
     },
     "execution_count": 9,
     "metadata": {},
     "output_type": "execute_result"
    }
   ],
   "source": [
    "rm_n_u3000_um_url_hseries_em[:50]"
   ]
  },
  {
   "cell_type": "code",
   "execution_count": 11,
   "id": "591908d3-cc80-4552-9c9e-3b42ee024a37",
   "metadata": {},
   "outputs": [
    {
     "data": {
      "text/plain": [
       "False"
      ]
     },
     "execution_count": 11,
     "metadata": {},
     "output_type": "execute_result"
    }
   ],
   "source": [
    "import emoji \n",
    "'🇨🇳' in emoji.UNICODE_EMOJI"
   ]
  },
  {
   "cell_type": "code",
   "execution_count": null,
   "id": "f21c2ee8-8216-4792-bfe6-1d8c3e69680d",
   "metadata": {},
   "outputs": [],
   "source": []
  }
 ],
 "metadata": {
  "kernelspec": {
   "display_name": "Python 3",
   "language": "python",
   "name": "python3"
  },
  "language_info": {
   "codemirror_mode": {
    "name": "ipython",
    "version": 3
   },
   "file_extension": ".py",
   "mimetype": "text/x-python",
   "name": "python",
   "nbconvert_exporter": "python",
   "pygments_lexer": "ipython3",
   "version": "3.8.8"
  }
 },
 "nbformat": 4,
 "nbformat_minor": 5
}
