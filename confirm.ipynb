{
 "cells": [
  {
   "cell_type": "code",
   "execution_count": 2,
   "id": "e12befd1-1637-4532-99c5-08d3e4fd00d8",
   "metadata": {},
   "outputs": [],
   "source": [
    "%load_ext autoreload\n",
    "%autoreload 2"
   ]
  },
  {
   "cell_type": "code",
   "execution_count": 3,
   "id": "c5441d50-4599-4fdc-8f12-9cbbc19e18d7",
   "metadata": {},
   "outputs": [],
   "source": [
    "import os\n",
    "import glob\n",
    "\n",
    "import pandas as pd\n",
    "import joblib"
   ]
  },
  {
   "cell_type": "code",
   "execution_count": 4,
   "id": "d1fb1238-4784-46e3-a9e7-62e0ead24046",
   "metadata": {},
   "outputs": [],
   "source": [
    "def dumpJoblib(fileName, obj):\n",
    "    with open(fileName, mode=\"wb\") as f:\n",
    "        joblib.dump(obj, f, compress=3)\n",
    "        \n",
    "def loadJoblib(fileName):\n",
    "    with open(fileName, mode=\"rb\") as f:\n",
    "        return joblib.load(f)\n",
    "\n",
    "df1 = loadJoblib('data_label_fin/00000_00499.joblib')\n",
    "df2 = loadJoblib('data_label_fin/00500_00999.joblib')\n",
    "df3 = loadJoblib('data_label_fin/01000_01499.joblib')\n"
   ]
  },
  {
   "cell_type": "code",
   "execution_count": 5,
   "id": "20ba734f-11d2-421e-b322-9f37a782d815",
   "metadata": {},
   "outputs": [
    {
     "data": {
      "text/plain": [
       "0    497\n",
       "4      2\n",
       "1      1\n",
       "Name: label, dtype: int64"
      ]
     },
     "execution_count": 5,
     "metadata": {},
     "output_type": "execute_result"
    }
   ],
   "source": [
    "df1['label'].value_counts()"
   ]
  },
  {
   "cell_type": "code",
   "execution_count": 6,
   "id": "9e331e4a-9f8b-4ecd-9b6f-208ef78a357e",
   "metadata": {},
   "outputs": [
    {
     "data": {
      "text/plain": [
       "4    186\n",
       "1    139\n",
       "3     88\n",
       "5     46\n",
       "2     41\n",
       "Name: label, dtype: int64"
      ]
     },
     "execution_count": 6,
     "metadata": {},
     "output_type": "execute_result"
    }
   ],
   "source": [
    "df2['label'].value_counts()"
   ]
  },
  {
   "cell_type": "code",
   "execution_count": 7,
   "id": "8b210f61-e014-4376-a718-9aea289466f1",
   "metadata": {},
   "outputs": [
    {
     "data": {
      "text/plain": [
       "4    155\n",
       "1    145\n",
       "3     95\n",
       "2     56\n",
       "5     49\n",
       "Name: label, dtype: int64"
      ]
     },
     "execution_count": 7,
     "metadata": {},
     "output_type": "execute_result"
    }
   ],
   "source": [
    "df3['label'].value_counts()"
   ]
  },
  {
   "cell_type": "code",
   "execution_count": null,
   "id": "111c8a66-d789-41bd-9f93-3b1668b77e21",
   "metadata": {},
   "outputs": [],
   "source": []
  }
 ],
 "metadata": {
  "kernelspec": {
   "display_name": "Python 3",
   "language": "python",
   "name": "python3"
  },
  "language_info": {
   "codemirror_mode": {
    "name": "ipython",
    "version": 3
   },
   "file_extension": ".py",
   "mimetype": "text/x-python",
   "name": "python",
   "nbconvert_exporter": "python",
   "pygments_lexer": "ipython3",
   "version": "3.8.2"
  }
 },
 "nbformat": 4,
 "nbformat_minor": 5
}
